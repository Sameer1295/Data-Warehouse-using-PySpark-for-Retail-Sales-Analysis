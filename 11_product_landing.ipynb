{
 "cells": [
  {
   "cell_type": "code",
   "execution_count": 1,
   "id": "2d11d9e7-1ad9-4361-8b69-25eaac7752f9",
   "metadata": {},
   "outputs": [],
   "source": [
    "# Script to create date for Product Dimesion Landing"
   ]
  },
  {
   "cell_type": "code",
   "execution_count": 2,
   "id": "97cf4f0a-7b18-4dd9-a31d-5957dae4f5f4",
   "metadata": {},
   "outputs": [],
   "source": [
    "# Import required libraries\n",
    "import sys\n",
    "from lib.spark_session import get_spark_session\n",
    "from lib.utils import date_data, get_string_cols, get_rundate\n",
    "from lib.job_control import insert_log, get_max_timestamp\n",
    "from pyspark.sql import SparkSession, DataFrame\n",
    "from pyspark.sql.functions import current_timestamp, lit\n",
    "from datetime import datetime\n",
    "from delta import DeltaTable\n",
    "from lib.aws_s3 import archive_landing_object"
   ]
  },
  {
   "cell_type": "code",
   "execution_count": 7,
   "id": "8b5f58b8-af6e-4c2a-a1eb-b034656bc06a",
   "metadata": {},
   "outputs": [
    {
     "name": "stdout",
     "output_type": "stream",
     "text": [
      "SPARK_APP: JOB triggered for rundate - 20220101\n"
     ]
    }
   ],
   "source": [
    "# JOB Parameters\n",
    "rundate = get_rundate()\n",
    "schema_name = \"edw_ld\"\n",
    "table_name = \"dim_product_ld\"\n",
    "table_full_name = f\"{schema_name}.{table_name}\" \n",
    "landing_file_name = f\"product_{rundate}.csv\"\n",
    "landing_file_path = f\"s3a://easewithdata-sameer/dw-with-pyspark/landing/product/{landing_file_name}\"\n",
    "print(\"SPARK_APP: JOB triggered for rundate - \" + rundate)"
   ]
  },
  {
   "cell_type": "code",
   "execution_count": 4,
   "id": "c0de9561-52db-407d-a2f5-2384ea16307f",
   "metadata": {},
   "outputs": [
    {
     "name": "stdout",
     "output_type": "stream",
     "text": [
      "SPARK_APP: Spark UI - http://358d9e2d6aad:4040\n"
     ]
    }
   ],
   "source": [
    "# Generate Spark Session\n",
    "spark: SparkSession = get_spark_session(f\"Landing load - {table_full_name}\")\n",
    "print(\"SPARK_APP: Spark UI - \" + spark.sparkContext.uiWebUrl)"
   ]
  },
  {
   "cell_type": "code",
   "execution_count": 5,
   "id": "76f65783-22a0-4f2f-8f11-0099d8e080ec",
   "metadata": {},
   "outputs": [],
   "source": [
    "# Spark Configs\n",
    "spark.conf.set(\"spark.sql.shuffle.partitions\", 8)\n",
    "spark.conf.set(\"spark.sql.parquet.mergeSchema\", True)"
   ]
  },
  {
   "cell_type": "code",
   "execution_count": 8,
   "id": "259708fd-b3fa-4eee-917f-50ef3ab08861",
   "metadata": {},
   "outputs": [
    {
     "name": "stdout",
     "output_type": "stream",
     "text": [
      "SPARK_APP: Printing Raw Schema --\n",
      "root\n",
      " |-- product_id: string (nullable = true)\n",
      " |-- product_name: string (nullable = true)\n",
      " |-- brand: string (nullable = true)\n",
      " |-- type: string (nullable = true)\n",
      " |-- flavor: string (nullable = true)\n",
      " |-- size: string (nullable = true)\n",
      " |-- price: string (nullable = true)\n",
      " |-- quantity: string (nullable = true)\n",
      " |-- expiration_date: string (nullable = true)\n",
      " |-- image_url: string (nullable = true)\n",
      "\n",
      "SPARK_APP: Landing data count - 14\n"
     ]
    }
   ],
   "source": [
    "# Create Raw dataframe and get col info\n",
    "df_raw = spark \\\n",
    "    .read \\\n",
    "    .format(\"csv\") \\\n",
    "    .option(\"header\", True) \\\n",
    "    .load(landing_file_path)\n",
    "\n",
    "print(\"SPARK_APP: Printing Raw Schema --\")\n",
    "df_raw.printSchema()\n",
    "\n",
    "# Get Landing count\n",
    "print(\"SPARK_APP: Landing data count - \" + str(df_raw.count()))"
   ]
  },
  {
   "cell_type": "code",
   "execution_count": 9,
   "id": "c5f0cc81-39de-48f0-8584-fcfeff8a9a40",
   "metadata": {},
   "outputs": [
    {
     "name": "stdout",
     "output_type": "stream",
     "text": [
      "SPARK_APP: Casted all columns to String\n",
      "SPARK_APP: Added AUDIT column\n",
      "SPARK_APP: Final layer data count - 14\n",
      "SPARK_APP: Printing Landing Schema --\n",
      "root\n",
      " |-- product_id: string (nullable = true)\n",
      " |-- product_name: string (nullable = true)\n",
      " |-- brand: string (nullable = true)\n",
      " |-- type: string (nullable = true)\n",
      " |-- flavor: string (nullable = true)\n",
      " |-- size: string (nullable = true)\n",
      " |-- price: string (nullable = true)\n",
      " |-- quantity: string (nullable = true)\n",
      " |-- expiration_date: string (nullable = true)\n",
      " |-- image_url: string (nullable = true)\n",
      " |-- insert_dt: timestamp (nullable = false)\n",
      " |-- rundate: string (nullable = false)\n",
      "\n"
     ]
    }
   ],
   "source": [
    "# Cast all columns to String\n",
    "df_casted = df_raw.selectExpr(get_string_cols(spark, df_raw))\n",
    "print(\"SPARK_APP: Casted all columns to String\")\n",
    "\n",
    "# Add audit columns\n",
    "df_ld = df_casted.withColumn(\"insert_dt\", current_timestamp()) \\\n",
    "    .withColumn(\"rundate\", lit(rundate))\n",
    "print(\"SPARK_APP: Added AUDIT column\")\n",
    "\n",
    "# Get Final Layer count\n",
    "print(\"SPARK_APP: Final layer data count - \" + str(df_ld.count()))\n",
    "print(\"SPARK_APP: Printing Landing Schema --\")\n",
    "df_ld.printSchema()"
   ]
  },
  {
   "cell_type": "code",
   "execution_count": 10,
   "id": "48e4429c-dfb1-4175-9dd1-cd706ad92dac",
   "metadata": {},
   "outputs": [
    {
     "name": "stdout",
     "output_type": "stream",
     "text": [
      "SPARK_APP: Data written to landing layer\n"
     ]
    }
   ],
   "source": [
    "# Write the data to landing layer checking if table exists\n",
    "if get_max_timestamp(spark, schema_name, table_name) != \"1900-01-01 00:00:00.000000\":\n",
    "    df_ld.write \\\n",
    "        .format(\"delta\") \\\n",
    "        .mode(\"append\") \\\n",
    "        .saveAsTable(table_full_name)\n",
    "else:\n",
    "    df_ld.write \\\n",
    "        .format(\"delta\") \\\n",
    "        .mode(\"overwrite\") \\\n",
    "        .saveAsTable(table_full_name)\n",
    "\n",
    "print(\"SPARK_APP: Data written to landing layer\")"
   ]
  },
  {
   "cell_type": "code",
   "execution_count": 11,
   "id": "00ed8a11-57ab-43de-97d2-cd0137e177f7",
   "metadata": {},
   "outputs": [
    {
     "name": "stdout",
     "output_type": "stream",
     "text": [
      "Unable to locate credentials\n",
      "SPARK_APP: ERROR - Landing file product_20220101.csv not archived. Please Archive the file manually\n"
     ]
    }
   ],
   "source": [
    "# Archive the landing file\n",
    "if archive_landing_object(landing_file_name, \"product\"):\n",
    "    print(f\"SPARK_APP: Landing file {landing_file_name} archived\")\n",
    "else:\n",
    "    print(f\"SPARK_APP: ERROR - Landing file {landing_file_name} not archived. Please Archive the file manually\")"
   ]
  },
  {
   "cell_type": "code",
   "execution_count": 12,
   "id": "278708f0-ab85-4daf-81d2-c77848860432",
   "metadata": {},
   "outputs": [
    {
     "name": "stdout",
     "output_type": "stream",
     "text": [
      "SPARK_APP: Update JOB Control Log\n"
     ]
    }
   ],
   "source": [
    "# Add job details in JOB CONTROL\n",
    "insert_log(spark, schema_name, table_name, datetime.now(), rundate)\n",
    "print(\"SPARK_APP: Update JOB Control Log\")"
   ]
  },
  {
   "cell_type": "code",
   "execution_count": 13,
   "id": "e4a66450-5b44-428d-9dcf-8053d03fb55d",
   "metadata": {},
   "outputs": [
    {
     "name": "stdout",
     "output_type": "stream",
     "text": [
      "+-----------+--------------+--------------------------+--------+--------------------------+\n",
      "|schema_name|table_name    |max_timestamp             |rundate |insert_dt                 |\n",
      "+-----------+--------------+--------------------------+--------+--------------------------+\n",
      "|edw_ld     |dim_product_ld|2024-04-20 15:57:22.152932|20220101|2024-04-20 15:57:23.659318|\n",
      "+-----------+--------------+--------------------------+--------+--------------------------+\n",
      "\n"
     ]
    }
   ],
   "source": [
    "spark.sql(f\"select * from edw.job_control where table_name = '{table_name}' order by insert_dt desc limit 1\").show(truncate=False)"
   ]
  },
  {
   "cell_type": "code",
   "execution_count": 14,
   "id": "69ccf6cf-3ba7-4cfa-a52a-42b65005ec18",
   "metadata": {},
   "outputs": [
    {
     "name": "stdout",
     "output_type": "stream",
     "text": [
      "+-------+---------------+---------------------+--------------------+-------------+\n",
      "|version|executionTimeMs|numTargetRowsInserted|numTargetRowsUpdated|numOutputRows|\n",
      "+-------+---------------+---------------------+--------------------+-------------+\n",
      "|0      |null           |null                 |null                |14           |\n",
      "+-------+---------------+---------------------+--------------------+-------------+\n",
      "\n"
     ]
    }
   ],
   "source": [
    "# Get the logs from delta table version\n",
    "dt = DeltaTable.forName(spark, table_full_name)\n",
    "dt.history().limit(1).select(\"version\",\"operationMetrics.executionTimeMs\", \n",
    "                                 \"operationMetrics.numTargetRowsInserted\",\n",
    "                                \"operationMetrics.numTargetRowsUpdated\",\n",
    "                                \"operationMetrics.numOutputRows\").show(1, False)"
   ]
  },
  {
   "cell_type": "code",
   "execution_count": 15,
   "id": "9bffc68a-1565-4740-bee5-51f53fdaab97",
   "metadata": {},
   "outputs": [
    {
     "name": "stdout",
     "output_type": "stream",
     "text": [
      "SPARK_APP: Symlink Manifest file generated\n"
     ]
    }
   ],
   "source": [
    "# Generate Symlink manifest for Athena Access\n",
    "dt.generate(\"symlink_format_manifest\")\n",
    "print(\"SPARK_APP: Symlink Manifest file generated\")"
   ]
  },
  {
   "cell_type": "code",
   "execution_count": 18,
   "id": "f6a90ff9-90b3-4013-94bc-eaa631219c15",
   "metadata": {},
   "outputs": [
    {
     "name": "stdout",
     "output_type": "stream",
     "text": [
      "+-----------+----------------+--------------------+--------+--------------------+\n",
      "|schema_name|      table_name|       max_timestamp| rundate|           insert_dt|\n",
      "+-----------+----------------+--------------------+--------+--------------------+\n",
      "|        edw|        dim_date|2024-04-20 06:11:...|20220101|2024-04-20 06:11:...|\n",
      "|        edw|       dim_store|2024-04-20 11:36:...|20220101|2024-04-20 11:36:...|\n",
      "|        edw|    dim_customer|2024-04-20 12:07:...|20220101|2024-04-20 12:07:...|\n",
      "|     edw_ld| dim_customer_ld|2024-04-20 11:52:...|20220101|2024-04-20 11:52:...|\n",
      "|     edw_ld|     dim_date_ld|2024-04-19 10:54:...|20220101|2024-04-19 10:54:...|\n",
      "|     edw_ld|    dim_store_ld|2024-04-20 07:28:...|20220101|2024-04-20 07:28:...|\n",
      "|     edw_ld|  dim_product_ld|2024-04-20 15:57:...|20220101|2024-04-20 15:57:...|\n",
      "|    edw_stg|dim_customer_stg|2024-04-20 11:57:...|20220101|2024-04-20 11:57:...|\n",
      "|    edw_stg|    dim_date_stg|2024-04-19 11:06:...|20220101|2024-04-19 11:06:...|\n",
      "|    edw_stg|   dim_store_stg|2024-04-20 11:27:...|20220101|2024-04-20 11:27:...|\n",
      "+-----------+----------------+--------------------+--------+--------------------+\n",
      "\n"
     ]
    }
   ],
   "source": [
    "spark.sql('select * from edw.job_control order by schema_name').show()"
   ]
  },
  {
   "cell_type": "code",
   "execution_count": 19,
   "id": "70b6b61d-f484-4a78-9ba3-02efe2f2e0e4",
   "metadata": {},
   "outputs": [],
   "source": [
    "spark.stop()"
   ]
  },
  {
   "cell_type": "code",
   "execution_count": null,
   "id": "bd9f2e6c-b34d-44ea-8814-a8cf290e9f9c",
   "metadata": {},
   "outputs": [],
   "source": []
  }
 ],
 "metadata": {
  "kernelspec": {
   "display_name": "Python 3 (ipykernel)",
   "language": "python",
   "name": "python3"
  },
  "language_info": {
   "codemirror_mode": {
    "name": "ipython",
    "version": 3
   },
   "file_extension": ".py",
   "mimetype": "text/x-python",
   "name": "python",
   "nbconvert_exporter": "python",
   "pygments_lexer": "ipython3",
   "version": "3.10.14"
  }
 },
 "nbformat": 4,
 "nbformat_minor": 5
}
