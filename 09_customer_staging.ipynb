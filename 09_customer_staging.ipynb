{
 "cells": [
  {
   "cell_type": "code",
   "execution_count": 1,
   "id": "4c3d1d3b-ee1a-45cc-8fc0-bffeb3d4a825",
   "metadata": {},
   "outputs": [],
   "source": [
    "# Script to create date for Dimesion Staging"
   ]
  },
  {
   "cell_type": "code",
   "execution_count": 2,
   "id": "44ec697f-5349-47cc-b03b-d80d187d1ff9",
   "metadata": {},
   "outputs": [],
   "source": [
    "# Import required libraries\n",
    "import sys\n",
    "from lib.spark_session import get_spark_session\n",
    "from lib.utils import date_data, get_string_cols, get_rundate\n",
    "from lib.job_control import insert_log, get_max_timestamp\n",
    "from pyspark.sql import SparkSession, DataFrame\n",
    "from pyspark.sql.functions import current_timestamp, expr, to_date, lit, split, to_timestamp, coalesce\n",
    "from datetime import datetime\n",
    "from delta import DeltaTable"
   ]
  },
  {
   "cell_type": "code",
   "execution_count": 3,
   "id": "f4f348ae-dada-458b-98a5-a5a294ea1dd2",
   "metadata": {},
   "outputs": [
    {
     "name": "stdout",
     "output_type": "stream",
     "text": [
      "SPARK_APP: JOB triggered for rundate - 20220101\n"
     ]
    }
   ],
   "source": [
    "# JOB Parameters\n",
    "rundate = get_rundate()\n",
    "schema_name = \"edw_stg\"\n",
    "table_name = \"dim_customer_stg\"\n",
    "table_full_name = f\"{schema_name}.{table_name}\"\n",
    "landing_table_full_name = \"edw_ld.dim_customer_ld\"\n",
    "print(\"SPARK_APP: JOB triggered for rundate - \" + rundate)"
   ]
  },
  {
   "cell_type": "code",
   "execution_count": 4,
   "id": "919d0764-61d1-465c-91b4-4ecabb8a4d77",
   "metadata": {},
   "outputs": [
    {
     "name": "stdout",
     "output_type": "stream",
     "text": [
      "SPARK_APP: Spark UI - http://358d9e2d6aad:4040\n"
     ]
    }
   ],
   "source": [
    "# Generate Spark Session\n",
    "spark: SparkSession = get_spark_session(f\"Staging load - {table_full_name}\")\n",
    "print(\"SPARK_APP: Spark UI - \" + spark.sparkContext.uiWebUrl)"
   ]
  },
  {
   "cell_type": "code",
   "execution_count": 5,
   "id": "bf4dee30-c451-44ad-8dac-22203cdeef39",
   "metadata": {},
   "outputs": [],
   "source": [
    "# Spark Configs\n",
    "spark.conf.set(\"spark.sql.shuffle.partitions\", 8)\n",
    "spark.conf.set(\"spark.sql.parquet.mergeSchema\", True)"
   ]
  },
  {
   "cell_type": "code",
   "execution_count": 6,
   "id": "d9307363-408d-4e6f-878d-dd61f31d6bf2",
   "metadata": {},
   "outputs": [
    {
     "name": "stdout",
     "output_type": "stream",
     "text": [
      "SPARK_APP: Max timestamp for staging data load - 1900-01-01 00:00:00.000000\n"
     ]
    }
   ],
   "source": [
    "# Get the max_timestamp for data load in staging\n",
    "max_timestamp = get_max_timestamp(spark, schema_name, table_name)\n",
    "print(\"SPARK_APP: Max timestamp for staging data load - \" + max_timestamp)"
   ]
  },
  {
   "cell_type": "code",
   "execution_count": 7,
   "id": "1fc11746-9eee-42ec-8175-213316020c47",
   "metadata": {},
   "outputs": [
    {
     "name": "stdout",
     "output_type": "stream",
     "text": [
      "SPARK_APP: Landing Data Count - 18\n",
      "SPARK_APP: Printing Landing Schema --\n",
      "root\n",
      " |-- customer_id: string (nullable = true)\n",
      " |-- name: string (nullable = true)\n",
      " |-- address: string (nullable = true)\n",
      " |-- city: string (nullable = true)\n",
      " |-- state: string (nullable = true)\n",
      " |-- zip_code: string (nullable = true)\n",
      " |-- phone_number: string (nullable = true)\n",
      " |-- email: string (nullable = true)\n",
      " |-- date_of_birth: string (nullable = true)\n",
      " |-- plan_type: string (nullable = true)\n",
      " |-- insert_dt: timestamp (nullable = true)\n",
      " |-- rundate: string (nullable = true)\n",
      "\n"
     ]
    }
   ],
   "source": [
    "# Read data from landing based on max timestamp\n",
    "df_ld = spark \\\n",
    "    .read \\\n",
    "    .table(landing_table_full_name) \\\n",
    "    .where(f\"insert_dt > to_timestamp('{max_timestamp}')\")\n",
    "\n",
    "print(\"SPARK_APP: Landing Data Count - \" + str(df_ld.count()))\n",
    "print(\"SPARK_APP: Printing Landing Schema --\")\n",
    "df_ld.printSchema()"
   ]
  },
  {
   "cell_type": "code",
   "execution_count": 8,
   "id": "30ae371b-d51a-44e1-8f7b-5aeda883951b",
   "metadata": {},
   "outputs": [
    {
     "name": "stdout",
     "output_type": "stream",
     "text": [
      "SPARK_APP: Landing Data Count after de-dupe - 18\n"
     ]
    }
   ],
   "source": [
    "# De-dupe the data based on NK\n",
    "df_dedupe = df_ld.withColumn(\"_rnk\", expr(f\"row_number() over (partition by customer_id order by insert_dt desc)\")) \\\n",
    "    .where(\"_rnk = 1\").drop(\"_rnk\")\n",
    "\n",
    "print(\"SPARK_APP: Landing Data Count after de-dupe - \" + str(df_dedupe.count()))"
   ]
  },
  {
   "cell_type": "code",
   "execution_count": 9,
   "id": "410470fc-e12c-436c-b683-643097b65370",
   "metadata": {},
   "outputs": [
    {
     "name": "stdout",
     "output_type": "stream",
     "text": [
      "SPARK_APP: Staging Data Count - 18\n",
      "SPARK_APP: Printing Staging Schema --\n",
      "root\n",
      " |-- customer_id: string (nullable = true)\n",
      " |-- name: string (nullable = true)\n",
      " |-- address: string (nullable = true)\n",
      " |-- city: string (nullable = true)\n",
      " |-- state: string (nullable = true)\n",
      " |-- zip_code: string (nullable = true)\n",
      " |-- phone_number: string (nullable = true)\n",
      " |-- email: string (nullable = true)\n",
      " |-- date_of_birth: date (nullable = true)\n",
      " |-- plan_type: string (nullable = false)\n",
      " |-- insert_dt: timestamp (nullable = false)\n",
      " |-- rundate: string (nullable = true)\n",
      " |-- first_name: string (nullable = true)\n",
      " |-- last_name: string (nullable = true)\n",
      " |-- effective_start_dt: timestamp (nullable = false)\n",
      " |-- effective_end_dt: timestamp (nullable = true)\n",
      " |-- active_flg: integer (nullable = false)\n",
      " |-- update_dt: timestamp (nullable = false)\n",
      "\n"
     ]
    }
   ],
   "source": [
    "# Format the landing data\n",
    "df_stg = df_dedupe \\\n",
    "    .withColumn(\"first_name\", split(\"name\", \" \")[0]) \\\n",
    "    .withColumn(\"last_name\", split(\"name\", \" \")[1]) \\\n",
    "    .withColumn(\"date_of_birth\", to_date(\"date_of_birth\", \"dd-MM-yyyy\")) \\\n",
    "    .withColumn(\"plan_type\", coalesce(\"plan_type\", \"plan_type\", lit(\"NA\"))) \\\n",
    "    .withColumn(\"effective_start_dt\", current_timestamp()) \\\n",
    "    .withColumn(\"effective_end_dt\", to_timestamp(lit(\"9999-12-31 00:00:00.000000\"))) \\\n",
    "    .withColumn(\"active_flg\", lit(1)) \\\n",
    "    .withColumn(\"insert_dt\", current_timestamp()) \\\n",
    "    .withColumn(\"update_dt\", current_timestamp()) \n",
    "\n",
    "print(\"SPARK_APP: Staging Data Count - \" + str(df_stg.count()))\n",
    "print(\"SPARK_APP: Printing Staging Schema --\")\n",
    "df_stg.printSchema()"
   ]
  },
  {
   "cell_type": "code",
   "execution_count": 10,
   "id": "cd6f9944-4827-48a8-9de0-261f8f35a420",
   "metadata": {},
   "outputs": [
    {
     "name": "stdout",
     "output_type": "stream",
     "text": [
      "SPARK_APP: Data written to staging table\n"
     ]
    }
   ],
   "source": [
    "# Write the data to Staging table in overwrite mode for truncate\n",
    "df_stg.write \\\n",
    "    .format(\"delta\") \\\n",
    "    .mode(\"overwrite\") \\\n",
    "    .saveAsTable(table_full_name)\n",
    "\n",
    "print(\"SPARK_APP: Data written to staging table\")"
   ]
  },
  {
   "cell_type": "code",
   "execution_count": 11,
   "id": "0c7818da-913a-41d2-8160-578c866761a1",
   "metadata": {},
   "outputs": [
    {
     "name": "stdout",
     "output_type": "stream",
     "text": [
      "SPARK_APP: Update JOB Control Log\n"
     ]
    }
   ],
   "source": [
    "# Add job details in JOB CONTROL\n",
    "insert_log(spark, schema_name, table_name, datetime.now(), rundate)\n",
    "print(\"SPARK_APP: Update JOB Control Log\")"
   ]
  },
  {
   "cell_type": "code",
   "execution_count": 12,
   "id": "f7874bcf-6a22-48af-aad6-00137d6bad4d",
   "metadata": {},
   "outputs": [
    {
     "name": "stdout",
     "output_type": "stream",
     "text": [
      "+-----------+----------------+--------------------------+--------+--------------------------+\n",
      "|schema_name|table_name      |max_timestamp             |rundate |insert_dt                 |\n",
      "+-----------+----------------+--------------------------+--------+--------------------------+\n",
      "|edw_stg    |dim_customer_stg|2024-04-20 11:57:41.756432|20220101|2024-04-20 11:57:42.634347|\n",
      "+-----------+----------------+--------------------------+--------+--------------------------+\n",
      "\n"
     ]
    }
   ],
   "source": [
    "spark.sql(f\"select * from edw.job_control where table_name = '{table_name}' order by insert_dt desc limit 1\").show(truncate=False)"
   ]
  },
  {
   "cell_type": "code",
   "execution_count": 13,
   "id": "4f491212-865e-421f-a8e6-148a11b30f45",
   "metadata": {},
   "outputs": [
    {
     "name": "stdout",
     "output_type": "stream",
     "text": [
      "+-------+---------------+---------------------+--------------------+-------------+\n",
      "|version|executionTimeMs|numTargetRowsInserted|numTargetRowsUpdated|numOutputRows|\n",
      "+-------+---------------+---------------------+--------------------+-------------+\n",
      "|0      |null           |null                 |null                |18           |\n",
      "+-------+---------------+---------------------+--------------------+-------------+\n",
      "\n"
     ]
    }
   ],
   "source": [
    "# Get the logs from delta table version\n",
    "dt = DeltaTable.forName(spark, table_full_name)\n",
    "dt.history().limit(1).select(\"version\",\"operationMetrics.executionTimeMs\", \n",
    "                                 \"operationMetrics.numTargetRowsInserted\",\n",
    "                                \"operationMetrics.numTargetRowsUpdated\",\n",
    "                                \"operationMetrics.numOutputRows\").show(1, False)"
   ]
  },
  {
   "cell_type": "code",
   "execution_count": 14,
   "id": "dc7fea1a-8220-4e17-b228-ab6761adf8ec",
   "metadata": {},
   "outputs": [
    {
     "name": "stdout",
     "output_type": "stream",
     "text": [
      "SPARK_APP: Symlink Manifest file generated\n"
     ]
    }
   ],
   "source": [
    "# Generate Symlink manifest for Athena Access\n",
    "dt.generate(\"symlink_format_manifest\")\n",
    "print(\"SPARK_APP: Symlink Manifest file generated\")"
   ]
  },
  {
   "cell_type": "code",
   "execution_count": 17,
   "id": "fb053099-e198-4c89-8647-89c74ed664d6",
   "metadata": {},
   "outputs": [
    {
     "name": "stdout",
     "output_type": "stream",
     "text": [
      "+-----------+----------------+--------------------+--------+--------------------+\n",
      "|schema_name|      table_name|       max_timestamp| rundate|           insert_dt|\n",
      "+-----------+----------------+--------------------+--------+--------------------+\n",
      "|    edw_stg|dim_customer_stg|2024-04-20 11:57:...|20220101|2024-04-20 11:57:...|\n",
      "|     edw_ld| dim_customer_ld|2024-04-20 11:52:...|20220101|2024-04-20 11:52:...|\n",
      "|    edw_stg|   dim_store_stg|2024-04-20 11:27:...|20220101|2024-04-20 11:27:...|\n",
      "|    edw_stg|    dim_date_stg|2024-04-19 11:06:...|20220101|2024-04-19 11:06:...|\n",
      "|     edw_ld|    dim_store_ld|2024-04-20 07:28:...|20220101|2024-04-20 07:28:...|\n",
      "|     edw_ld|     dim_date_ld|2024-04-19 10:54:...|20220101|2024-04-19 10:54:...|\n",
      "|        edw|       dim_store|2024-04-20 11:36:...|20220101|2024-04-20 11:36:...|\n",
      "|        edw|        dim_date|2024-04-20 06:11:...|20220101|2024-04-20 06:11:...|\n",
      "+-----------+----------------+--------------------+--------+--------------------+\n",
      "\n"
     ]
    }
   ],
   "source": [
    "spark.sql('select * from edw.job_control').show()"
   ]
  },
  {
   "cell_type": "code",
   "execution_count": 18,
   "id": "3d028171-97a6-49bf-921d-2f5201d4592a",
   "metadata": {},
   "outputs": [],
   "source": [
    "spark.stop()"
   ]
  },
  {
   "cell_type": "code",
   "execution_count": null,
   "id": "fb9a714f-609e-403d-a9e1-cd8d2f66e997",
   "metadata": {},
   "outputs": [],
   "source": []
  }
 ],
 "metadata": {
  "kernelspec": {
   "display_name": "Python 3 (ipykernel)",
   "language": "python",
   "name": "python3"
  },
  "language_info": {
   "codemirror_mode": {
    "name": "ipython",
    "version": 3
   },
   "file_extension": ".py",
   "mimetype": "text/x-python",
   "name": "python",
   "nbconvert_exporter": "python",
   "pygments_lexer": "ipython3",
   "version": "3.10.14"
  }
 },
 "nbformat": 4,
 "nbformat_minor": 5
}
