{
 "cells": [
  {
   "cell_type": "code",
   "execution_count": 1,
   "id": "895e5572-568a-40cd-82b2-56eda587f4bc",
   "metadata": {},
   "outputs": [],
   "source": [
    "# Script to create date for Dimesion Staging"
   ]
  },
  {
   "cell_type": "code",
   "execution_count": 2,
   "id": "e6f4bc1f-5b62-470d-a222-2b0012061011",
   "metadata": {},
   "outputs": [],
   "source": [
    "# Import required libraries\n",
    "import sys\n",
    "from lib.spark_session import get_spark_session\n",
    "from lib.utils import date_data, get_string_cols, get_rundate\n",
    "from lib.job_control import insert_log, get_max_timestamp\n",
    "from pyspark.sql import SparkSession, DataFrame\n",
    "from pyspark.sql.functions import current_timestamp, expr, to_date, lit, split, to_timestamp, coalesce\n",
    "from datetime import datetime\n",
    "from delta import DeltaTable"
   ]
  },
  {
   "cell_type": "code",
   "execution_count": 3,
   "id": "a9b15a99-026e-4670-9925-c44cdb5ae1da",
   "metadata": {},
   "outputs": [
    {
     "name": "stdout",
     "output_type": "stream",
     "text": [
      "SPARK_APP: JOB triggered for rundate - 20220101\n"
     ]
    }
   ],
   "source": [
    "# JOB Parameters\n",
    "rundate = get_rundate()\n",
    "schema_name = \"edw_stg\"\n",
    "table_name = \"dim_product_stg\"\n",
    "table_full_name = f\"{schema_name}.{table_name}\"\n",
    "landing_table_full_name = \"edw_ld.dim_product_ld\"\n",
    "print(\"SPARK_APP: JOB triggered for rundate - \" + rundate)"
   ]
  },
  {
   "cell_type": "code",
   "execution_count": 4,
   "id": "2bbbbc86-0579-49b7-bd72-091890b59256",
   "metadata": {},
   "outputs": [
    {
     "name": "stdout",
     "output_type": "stream",
     "text": [
      "SPARK_APP: Spark UI - http://358d9e2d6aad:4040\n"
     ]
    }
   ],
   "source": [
    "# Generate Spark Session\n",
    "spark: SparkSession = get_spark_session(f\"Staging load - {table_full_name}\")\n",
    "print(\"SPARK_APP: Spark UI - \" + spark.sparkContext.uiWebUrl)"
   ]
  },
  {
   "cell_type": "code",
   "execution_count": 5,
   "id": "6fb6b490-0191-43c3-930c-926c93785966",
   "metadata": {},
   "outputs": [],
   "source": [
    "# Spark Configs\n",
    "spark.conf.set(\"spark.sql.shuffle.partitions\", 8)\n",
    "spark.conf.set(\"spark.sql.parquet.mergeSchema\", True)"
   ]
  },
  {
   "cell_type": "code",
   "execution_count": 6,
   "id": "a78df5be-cb04-4836-a074-065a92cd05e5",
   "metadata": {},
   "outputs": [
    {
     "name": "stdout",
     "output_type": "stream",
     "text": [
      "SPARK_APP: Max timestamp for staging data load - 1900-01-01 00:00:00.000000\n"
     ]
    }
   ],
   "source": [
    "# Get the max_timestamp for data load in staging\n",
    "max_timestamp = get_max_timestamp(spark, schema_name, table_name)\n",
    "print(\"SPARK_APP: Max timestamp for staging data load - \" + max_timestamp)"
   ]
  },
  {
   "cell_type": "code",
   "execution_count": 7,
   "id": "f4745042-d201-4dc9-9e4a-d60a87fefcfa",
   "metadata": {},
   "outputs": [
    {
     "name": "stdout",
     "output_type": "stream",
     "text": [
      "SPARK_APP: Landing Data Count - 14\n",
      "SPARK_APP: Printing Landing Schema --\n",
      "root\n",
      " |-- product_id: string (nullable = true)\n",
      " |-- product_name: string (nullable = true)\n",
      " |-- brand: string (nullable = true)\n",
      " |-- type: string (nullable = true)\n",
      " |-- flavor: string (nullable = true)\n",
      " |-- size: string (nullable = true)\n",
      " |-- price: string (nullable = true)\n",
      " |-- quantity: string (nullable = true)\n",
      " |-- expiration_date: string (nullable = true)\n",
      " |-- image_url: string (nullable = true)\n",
      " |-- insert_dt: timestamp (nullable = true)\n",
      " |-- rundate: string (nullable = true)\n",
      "\n"
     ]
    }
   ],
   "source": [
    "# Read data from landing based on max timestamp\n",
    "df_ld = spark \\\n",
    "    .read \\\n",
    "    .table(landing_table_full_name) \\\n",
    "    .where(f\"insert_dt > to_timestamp('{max_timestamp}')\")\n",
    "\n",
    "print(\"SPARK_APP: Landing Data Count - \" + str(df_ld.count()))\n",
    "print(\"SPARK_APP: Printing Landing Schema --\")\n",
    "df_ld.printSchema()"
   ]
  },
  {
   "cell_type": "code",
   "execution_count": 8,
   "id": "c6d56d15-1549-43c6-87df-a07e55389eeb",
   "metadata": {},
   "outputs": [
    {
     "name": "stdout",
     "output_type": "stream",
     "text": [
      "SPARK_APP: Landing Data Count after de-dupe - 14\n"
     ]
    }
   ],
   "source": [
    "# De-dupe the data based on NK\n",
    "df_dedupe = df_ld.withColumn(\"_rnk\", expr(f\"row_number() over (partition by product_id order by insert_dt desc)\")) \\\n",
    "    .where(\"_rnk = 1\").drop(\"_rnk\")\n",
    "\n",
    "print(\"SPARK_APP: Landing Data Count after de-dupe - \" + str(df_dedupe.count()))"
   ]
  },
  {
   "cell_type": "code",
   "execution_count": 9,
   "id": "769aac32-045d-43d0-82b9-8443534a1415",
   "metadata": {},
   "outputs": [
    {
     "name": "stdout",
     "output_type": "stream",
     "text": [
      "SPARK_APP: Staging Data Count - 14\n",
      "SPARK_APP: Printing Staging Schema --\n",
      "root\n",
      " |-- product_id: string (nullable = true)\n",
      " |-- product_name: string (nullable = true)\n",
      " |-- brand: string (nullable = true)\n",
      " |-- type: string (nullable = true)\n",
      " |-- flavor: string (nullable = true)\n",
      " |-- size: string (nullable = true)\n",
      " |-- price: double (nullable = true)\n",
      " |-- image_url: string (nullable = true)\n",
      " |-- insert_dt: timestamp (nullable = false)\n",
      " |-- rundate: string (nullable = true)\n",
      " |-- expiration_dt: date (nullable = true)\n",
      " |-- effective_start_dt: timestamp (nullable = false)\n",
      " |-- effective_end_dt: timestamp (nullable = true)\n",
      " |-- active_flg: integer (nullable = false)\n",
      " |-- update_dt: timestamp (nullable = false)\n",
      "\n"
     ]
    }
   ],
   "source": [
    "# Format the landing data\n",
    "df_stg = df_dedupe \\\n",
    "    .withColumn(\"price\", split(\"price\", \" \")[1].cast(\"double\")) \\\n",
    "    .withColumn(\"expiration_dt\", to_date(\"expiration_date\", \"dd-MM-yyyy\")) \\\n",
    "    .withColumn(\"effective_start_dt\", current_timestamp()) \\\n",
    "    .withColumn(\"effective_end_dt\", to_timestamp(lit(\"9999-12-31 00:00:00.000000\"))) \\\n",
    "    .withColumn(\"active_flg\", lit(1)) \\\n",
    "    .withColumn(\"insert_dt\", current_timestamp()) \\\n",
    "    .withColumn(\"update_dt\", current_timestamp()) \\\n",
    "    .drop(\"expiration_date\", \"quantity\")\n",
    "\n",
    "print(\"SPARK_APP: Staging Data Count - \" + str(df_stg.count()))\n",
    "print(\"SPARK_APP: Printing Staging Schema --\")\n",
    "df_stg.printSchema()"
   ]
  },
  {
   "cell_type": "code",
   "execution_count": 10,
   "id": "7921bc81-7d62-4db2-a951-a35b6f91e2d0",
   "metadata": {},
   "outputs": [
    {
     "name": "stdout",
     "output_type": "stream",
     "text": [
      "SPARK_APP: Data written to staging table\n"
     ]
    }
   ],
   "source": [
    "# Write the data to Staging table in overwrite mode for truncate\n",
    "df_stg.write \\\n",
    "    .format(\"delta\") \\\n",
    "    .mode(\"overwrite\") \\\n",
    "    .saveAsTable(table_full_name)\n",
    "\n",
    "print(\"SPARK_APP: Data written to staging table\")"
   ]
  },
  {
   "cell_type": "code",
   "execution_count": 11,
   "id": "73c5e5ca-e148-4778-9bf8-d45e883d1eed",
   "metadata": {},
   "outputs": [
    {
     "name": "stdout",
     "output_type": "stream",
     "text": [
      "SPARK_APP: Update JOB Control Log\n"
     ]
    }
   ],
   "source": [
    "# Add job details in JOB CONTROL\n",
    "insert_log(spark, schema_name, table_name, datetime.now(), rundate)\n",
    "print(\"SPARK_APP: Update JOB Control Log\")"
   ]
  },
  {
   "cell_type": "code",
   "execution_count": 12,
   "id": "be729359-7786-4028-b7ee-c8b0f3cf3789",
   "metadata": {},
   "outputs": [
    {
     "name": "stdout",
     "output_type": "stream",
     "text": [
      "+-----------+---------------+--------------------------+--------+--------------------------+\n",
      "|schema_name|table_name     |max_timestamp             |rundate |insert_dt                 |\n",
      "+-----------+---------------+--------------------------+--------+--------------------------+\n",
      "|edw_stg    |dim_product_stg|2024-04-20 16:04:10.048957|20220101|2024-04-20 16:04:11.591427|\n",
      "+-----------+---------------+--------------------------+--------+--------------------------+\n",
      "\n"
     ]
    }
   ],
   "source": [
    "spark.sql(f\"select * from edw.job_control where table_name = '{table_name}' order by insert_dt desc limit 1\").show(truncate=False)"
   ]
  },
  {
   "cell_type": "code",
   "execution_count": 13,
   "id": "6c0fa66d-493b-4afa-ba53-f31f5ad23eed",
   "metadata": {},
   "outputs": [
    {
     "name": "stdout",
     "output_type": "stream",
     "text": [
      "+-------+---------------+---------------------+--------------------+-------------+\n",
      "|version|executionTimeMs|numTargetRowsInserted|numTargetRowsUpdated|numOutputRows|\n",
      "+-------+---------------+---------------------+--------------------+-------------+\n",
      "|0      |null           |null                 |null                |14           |\n",
      "+-------+---------------+---------------------+--------------------+-------------+\n",
      "\n"
     ]
    }
   ],
   "source": [
    "# Get the logs from delta table version\n",
    "dt = DeltaTable.forName(spark, table_full_name)\n",
    "dt.history().limit(1).select(\"version\",\"operationMetrics.executionTimeMs\", \n",
    "                                 \"operationMetrics.numTargetRowsInserted\",\n",
    "                                \"operationMetrics.numTargetRowsUpdated\",\n",
    "                                \"operationMetrics.numOutputRows\").show(1, False)"
   ]
  },
  {
   "cell_type": "code",
   "execution_count": 14,
   "id": "f0703f38-72a7-4b5e-8530-a7f4ea077599",
   "metadata": {},
   "outputs": [
    {
     "name": "stdout",
     "output_type": "stream",
     "text": [
      "SPARK_APP: Symlink Manifest file generated\n"
     ]
    }
   ],
   "source": [
    "# Generate Symlink manifest for Athena Access\n",
    "dt.generate(\"symlink_format_manifest\")\n",
    "print(\"SPARK_APP: Symlink Manifest file generated\")"
   ]
  },
  {
   "cell_type": "code",
   "execution_count": 15,
   "id": "48bf0e92-43ae-48fa-b868-78694215d741",
   "metadata": {},
   "outputs": [],
   "source": [
    "spark.stop()"
   ]
  },
  {
   "cell_type": "code",
   "execution_count": null,
   "id": "d245e7df-f9c8-45ac-a543-2ef6aa73cde2",
   "metadata": {},
   "outputs": [],
   "source": []
  }
 ],
 "metadata": {
  "kernelspec": {
   "display_name": "Python 3 (ipykernel)",
   "language": "python",
   "name": "python3"
  },
  "language_info": {
   "codemirror_mode": {
    "name": "ipython",
    "version": 3
   },
   "file_extension": ".py",
   "mimetype": "text/x-python",
   "name": "python",
   "nbconvert_exporter": "python",
   "pygments_lexer": "ipython3",
   "version": "3.10.14"
  }
 },
 "nbformat": 4,
 "nbformat_minor": 5
}
