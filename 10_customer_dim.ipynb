{
 "cells": [
  {
   "cell_type": "code",
   "execution_count": 1,
   "id": "60a7b973-2914-4bb9-af81-7a0bfc3fe9e8",
   "metadata": {},
   "outputs": [],
   "source": [
    "# Script to Load Dimesion"
   ]
  },
  {
   "cell_type": "code",
   "execution_count": 2,
   "id": "7251d3d3-13a7-4a00-beea-93695e83bfdd",
   "metadata": {},
   "outputs": [],
   "source": [
    "# Import required libraries\n",
    "import sys\n",
    "from lib.spark_session import get_spark_session\n",
    "from lib.utils import date_data, get_string_cols, get_rundate\n",
    "from lib.job_control import insert_log, get_max_timestamp\n",
    "from pyspark.sql import SparkSession, DataFrame\n",
    "from pyspark.sql.functions import current_timestamp, expr, to_date, date_format, udf, lit\n",
    "from pyspark.sql.types import StringType\n",
    "from datetime import datetime\n",
    "from delta import DeltaTable\n",
    "import uuid"
   ]
  },
  {
   "cell_type": "code",
   "execution_count": 3,
   "id": "3c1f8969-f75c-4122-88e2-1d73070d16a6",
   "metadata": {},
   "outputs": [
    {
     "name": "stdout",
     "output_type": "stream",
     "text": [
      "SPARK_APP: JOB triggered for rundate - 20220101\n"
     ]
    }
   ],
   "source": [
    "# JOB Parameters\n",
    "rundate = get_rundate()\n",
    "schema_name = \"edw\"\n",
    "table_name = \"dim_customer\"\n",
    "table_full_name = f\"{schema_name}.{table_name}\"\n",
    "staging_table_full_name = \"edw_stg.dim_customer_stg\"\n",
    "print(\"SPARK_APP: JOB triggered for rundate - \" + rundate)"
   ]
  },
  {
   "cell_type": "code",
   "execution_count": 4,
   "id": "0aa1e37a-d8d9-4566-b11e-83b556e4e918",
   "metadata": {},
   "outputs": [
    {
     "name": "stdout",
     "output_type": "stream",
     "text": [
      "SPARK_APP: Spark UI - http://358d9e2d6aad:4040\n"
     ]
    }
   ],
   "source": [
    "# Generate Spark Session\n",
    "spark: SparkSession = get_spark_session(f\"Dimension load - {table_full_name}\")\n",
    "print(\"SPARK_APP: Spark UI - \" + spark.sparkContext.uiWebUrl)"
   ]
  },
  {
   "cell_type": "code",
   "execution_count": 5,
   "id": "e18d4aa6-e710-446c-91ff-e10879b353a2",
   "metadata": {},
   "outputs": [],
   "source": [
    "# Spark Configs\n",
    "spark.conf.set(\"spark.sql.shuffle.partitions\", 8)"
   ]
  },
  {
   "cell_type": "code",
   "execution_count": 6,
   "id": "65e35d66-00f8-4943-b15a-434cf538a6a8",
   "metadata": {},
   "outputs": [
    {
     "name": "stdout",
     "output_type": "stream",
     "text": [
      "SPARK_APP: Staging Data Count - 18\n",
      "SPARK_APP: Printing Staging Schema --\n",
      "root\n",
      " |-- customer_id: string (nullable = true)\n",
      " |-- name: string (nullable = true)\n",
      " |-- address: string (nullable = true)\n",
      " |-- city: string (nullable = true)\n",
      " |-- state: string (nullable = true)\n",
      " |-- zip_code: string (nullable = true)\n",
      " |-- phone_number: string (nullable = true)\n",
      " |-- email: string (nullable = true)\n",
      " |-- date_of_birth: date (nullable = true)\n",
      " |-- plan_type: string (nullable = true)\n",
      " |-- insert_dt: timestamp (nullable = true)\n",
      " |-- rundate: string (nullable = true)\n",
      " |-- first_name: string (nullable = true)\n",
      " |-- last_name: string (nullable = true)\n",
      " |-- effective_start_dt: timestamp (nullable = true)\n",
      " |-- effective_end_dt: timestamp (nullable = true)\n",
      " |-- active_flg: integer (nullable = true)\n",
      " |-- update_dt: timestamp (nullable = true)\n",
      "\n"
     ]
    }
   ],
   "source": [
    "# Read data from Staging\n",
    "df_stg = spark \\\n",
    "    .read \\\n",
    "    .table(staging_table_full_name)\n",
    "\n",
    "print(\"SPARK_APP: Staging Data Count - \" + str(df_stg.count()))\n",
    "print(\"SPARK_APP: Printing Staging Schema --\")\n",
    "df_stg.printSchema()"
   ]
  },
  {
   "cell_type": "code",
   "execution_count": 7,
   "id": "b5704199-4c53-4078-b33f-d7e859903325",
   "metadata": {},
   "outputs": [],
   "source": [
    "# Generated uuid UDF for Surrogate Key\n",
    "uuidUDF = udf(lambda : str(uuid.uuid4()),StringType())"
   ]
  },
  {
   "cell_type": "code",
   "execution_count": 8,
   "id": "6a4c4c0b-96ca-4ab4-982b-f02ea8f2da61",
   "metadata": {},
   "outputs": [
    {
     "name": "stdout",
     "output_type": "stream",
     "text": [
      "SPARK_APP: Dim Temp Data Count - 18\n",
      "SPARK_APP: Printing Dim Temp Schema --\n",
      "root\n",
      " |-- customer_id: string (nullable = true)\n",
      " |-- name: string (nullable = true)\n",
      " |-- address: string (nullable = true)\n",
      " |-- city: string (nullable = true)\n",
      " |-- state: string (nullable = true)\n",
      " |-- zip_code: string (nullable = true)\n",
      " |-- phone_number: string (nullable = true)\n",
      " |-- email: string (nullable = true)\n",
      " |-- date_of_birth: date (nullable = true)\n",
      " |-- plan_type: string (nullable = true)\n",
      " |-- insert_dt: timestamp (nullable = true)\n",
      " |-- rundate: string (nullable = true)\n",
      " |-- first_name: string (nullable = true)\n",
      " |-- last_name: string (nullable = true)\n",
      " |-- effective_start_dt: timestamp (nullable = true)\n",
      " |-- effective_end_dt: timestamp (nullable = true)\n",
      " |-- active_flg: integer (nullable = true)\n",
      " |-- update_dt: timestamp (nullable = true)\n",
      " |-- row_wid: string (nullable = true)\n",
      " |-- hist_record_end_timestamp: timestamp (nullable = true)\n",
      " |-- hist_record_active_flg: integer (nullable = false)\n",
      " |-- hist_record_update_dt: timestamp (nullable = false)\n",
      "\n"
     ]
    }
   ],
   "source": [
    "# Generate SURROGATE KEYs\n",
    "df_dim_temp = df_stg \\\n",
    "    .withColumn(\"row_wid\", uuidUDF()) \\\n",
    "    .withColumn(\"hist_record_end_timestamp\", expr(\"cast(effective_start_dt as TIMESTAMP) - INTERVAL 1 seconds\")) \\\n",
    "    .withColumn(\"hist_record_active_flg\", lit(0)) \\\n",
    "    .withColumn(\"hist_record_update_dt\", current_timestamp()) \n",
    "\n",
    "print(\"SPARK_APP: Dim Temp Data Count - \" + str(df_dim_temp.count()))\n",
    "print(\"SPARK_APP: Printing Dim Temp Schema --\")\n",
    "df_dim_temp.printSchema()"
   ]
  },
  {
   "cell_type": "code",
   "execution_count": 9,
   "id": "8a7522f2-472d-4ae2-b7f6-fa1163d2c83e",
   "metadata": {},
   "outputs": [
    {
     "name": "stdout",
     "output_type": "stream",
     "text": [
      "SPARK_APP: Table is set for full load\n",
      "SPARK_APP: Updated History Records\n"
     ]
    }
   ],
   "source": [
    "# Get the delta table for Upserts (SCD2)\n",
    "dt_dim = DeltaTable.forName(spark, table_full_name)\n",
    "\n",
    "# Validate if the load is full load\n",
    "if get_max_timestamp(spark, schema_name, table_name) == \"1900-01-01 00:00:00.000000\":\n",
    "    print(\"SPARK_APP: Table is set for full load\") \n",
    "    # Truncate the Dimension table\n",
    "    spark.conf.set(\"spark.databricks.delta.retentionDurationCheck.enabled\", False)\n",
    "    dt_dim.delete(f\"1=1\")\n",
    "    dt_dim.vacuum(0)\n",
    "\n",
    "# Create the UPSERT logic\n",
    "dt_dim.alias(\"dim_customer\") \\\n",
    "    .merge(df_dim_temp.alias(\"dim_temp\"), \"dim_customer.customer_id = dim_temp.customer_id and dim_customer.active_flg = 1\") \\\n",
    "    .whenMatchedUpdate(set =\n",
    "        {\n",
    "           \"effective_end_dt\" : \"dim_temp.hist_record_end_timestamp\",\n",
    "            \"active_flg\" : \"dim_temp.hist_record_active_flg\",\n",
    "            \"update_dt\" : \"dim_temp.hist_record_update_dt\"\n",
    "        }  \n",
    "    ) \\\n",
    "    .execute()\n",
    "print(\"SPARK_APP: Updated History Records\")"
   ]
  },
  {
   "cell_type": "code",
   "execution_count": 10,
   "id": "4981323a-c533-4a88-9d6c-e2423330bcd0",
   "metadata": {},
   "outputs": [
    {
     "name": "stdout",
     "output_type": "stream",
     "text": [
      "+-------+---------------+---------------------+--------------------+-------------+\n",
      "|version|executionTimeMs|numTargetRowsInserted|numTargetRowsUpdated|numOutputRows|\n",
      "+-------+---------------+---------------------+--------------------+-------------+\n",
      "|1      |12598          |0                    |0                   |0            |\n",
      "+-------+---------------+---------------------+--------------------+-------------+\n",
      "\n"
     ]
    }
   ],
   "source": [
    "# Get the logs from delta table version\n",
    "dt_dim.history().limit(1).select(\"version\",\"operationMetrics.executionTimeMs\", \n",
    "                                 \"operationMetrics.numTargetRowsInserted\",\n",
    "                                \"operationMetrics.numTargetRowsUpdated\",\n",
    "                                \"operationMetrics.numOutputRows\").show(1, False)"
   ]
  },
  {
   "cell_type": "code",
   "execution_count": 11,
   "id": "a1391593-7605-42f8-9993-e33ac53216c7",
   "metadata": {},
   "outputs": [
    {
     "name": "stdout",
     "output_type": "stream",
     "text": [
      "SPARK_APP: Active Records inserted into Dimesion Table\n"
     ]
    }
   ],
   "source": [
    "# Insert all records in Delta Table in APPEND mode\n",
    "df_dim_temp.drop(\"hist_record_end_timestamp\", \"hist_record_active_flg\", \"hist_record_update_dt\", \"name\") \\\n",
    "    .write \\\n",
    "    .format(\"delta\") \\\n",
    "    .mode(\"append\") \\\n",
    "    .saveAsTable(table_full_name)\n",
    "print(\"SPARK_APP: Active Records inserted into Dimesion Table\")"
   ]
  },
  {
   "cell_type": "code",
   "execution_count": 12,
   "id": "ee0a67df-769b-4a44-aae7-6c93171423af",
   "metadata": {},
   "outputs": [
    {
     "name": "stdout",
     "output_type": "stream",
     "text": [
      "+-------+---------------+---------------------+--------------------+-------------+\n",
      "|version|executionTimeMs|numTargetRowsInserted|numTargetRowsUpdated|numOutputRows|\n",
      "+-------+---------------+---------------------+--------------------+-------------+\n",
      "|2      |null           |null                 |null                |18           |\n",
      "+-------+---------------+---------------------+--------------------+-------------+\n",
      "\n"
     ]
    }
   ],
   "source": [
    "# Get the logs from delta table version\n",
    "dt_dim.history().limit(1).select(\"version\",\"operationMetrics.executionTimeMs\", \n",
    "                                 \"operationMetrics.numTargetRowsInserted\",\n",
    "                                \"operationMetrics.numTargetRowsUpdated\",\n",
    "                                \"operationMetrics.numOutputRows\").show(1, False)"
   ]
  },
  {
   "cell_type": "code",
   "execution_count": 13,
   "id": "2399a404-49be-4380-a4ca-187d026bb872",
   "metadata": {},
   "outputs": [
    {
     "name": "stdout",
     "output_type": "stream",
     "text": [
      "SPARK_APP: Update JOB Control Log\n"
     ]
    }
   ],
   "source": [
    "# Add job details in JOB CONTROL\n",
    "insert_log(spark, schema_name, table_name, datetime.now(), rundate)\n",
    "print(\"SPARK_APP: Update JOB Control Log\")"
   ]
  },
  {
   "cell_type": "code",
   "execution_count": 14,
   "id": "8989a5ed-0883-4a46-a1c7-a62d8af70956",
   "metadata": {},
   "outputs": [
    {
     "name": "stdout",
     "output_type": "stream",
     "text": [
      "+-----------+------------+--------------------------+--------+--------------------------+\n",
      "|schema_name|table_name  |max_timestamp             |rundate |insert_dt                 |\n",
      "+-----------+------------+--------------------------+--------+--------------------------+\n",
      "|edw        |dim_customer|2024-04-20 12:07:08.664929|20220101|2024-04-20 12:07:09.487832|\n",
      "+-----------+------------+--------------------------+--------+--------------------------+\n",
      "\n"
     ]
    }
   ],
   "source": [
    "spark.sql(f\"select * from edw.job_control where table_name = '{table_name}' order by insert_dt desc limit 1\").show(truncate=False)"
   ]
  },
  {
   "cell_type": "code",
   "execution_count": 15,
   "id": "ee9fb4b7-7f69-453b-aa24-a7d1afd84652",
   "metadata": {},
   "outputs": [
    {
     "name": "stdout",
     "output_type": "stream",
     "text": [
      "SPARK_APP: Symlink Manifest file generated\n"
     ]
    }
   ],
   "source": [
    "# Generate Symlink manifest for Athena Access\n",
    "dt = DeltaTable.forName(spark, table_full_name)\n",
    "dt.generate(\"symlink_format_manifest\")\n",
    "print(\"SPARK_APP: Symlink Manifest file generated\")"
   ]
  },
  {
   "cell_type": "code",
   "execution_count": 16,
   "id": "5e5ed6dd-51b0-4d6c-b51a-43ca38dc800f",
   "metadata": {},
   "outputs": [],
   "source": [
    "spark.stop()"
   ]
  },
  {
   "cell_type": "code",
   "execution_count": null,
   "id": "489323a5-01fd-4a3c-b148-6d74629ce60d",
   "metadata": {},
   "outputs": [],
   "source": []
  }
 ],
 "metadata": {
  "kernelspec": {
   "display_name": "Python 3 (ipykernel)",
   "language": "python",
   "name": "python3"
  },
  "language_info": {
   "codemirror_mode": {
    "name": "ipython",
    "version": 3
   },
   "file_extension": ".py",
   "mimetype": "text/x-python",
   "name": "python",
   "nbconvert_exporter": "python",
   "pygments_lexer": "ipython3",
   "version": "3.10.14"
  }
 },
 "nbformat": 4,
 "nbformat_minor": 5
}
