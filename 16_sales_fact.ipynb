{
 "cells": [
  {
   "cell_type": "code",
   "execution_count": 1,
   "id": "c1647d83-12f1-42e2-ba64-a4b3a2b70779",
   "metadata": {},
   "outputs": [],
   "source": [
    "# Script to Load Fact"
   ]
  },
  {
   "cell_type": "code",
   "execution_count": 2,
   "id": "52253c8d-2091-4302-bbd8-70d42813b6df",
   "metadata": {},
   "outputs": [],
   "source": [
    "# Import required libraries\n",
    "import sys\n",
    "from lib.spark_session import get_spark_session\n",
    "from lib.utils import date_data, get_string_cols, get_rundate\n",
    "from lib.job_control import insert_log, get_max_timestamp\n",
    "from pyspark.sql import SparkSession, DataFrame\n",
    "from pyspark.sql.functions import current_timestamp, expr, to_date, date_format, udf, lit\n",
    "from pyspark.sql.types import StringType\n",
    "from datetime import datetime\n",
    "from delta import DeltaTable\n",
    "import uuid"
   ]
  },
  {
   "cell_type": "code",
   "execution_count": 3,
   "id": "170e0330-94af-4b09-8f81-e7a0eaacf3e9",
   "metadata": {},
   "outputs": [
    {
     "name": "stdout",
     "output_type": "stream",
     "text": [
      "SPARK_APP: JOB triggered for rundate - 20220101\n"
     ]
    }
   ],
   "source": [
    "# JOB Parameters\n",
    "rundate = get_rundate()\n",
    "schema_name = \"edw\"\n",
    "table_name = \"fact_sales\"\n",
    "table_full_name = f\"{schema_name}.{table_name}\"\n",
    "staging_table_full_name = \"edw_stg.fact_sales_stg\"\n",
    "print(\"SPARK_APP: JOB triggered for rundate - \" + rundate)"
   ]
  },
  {
   "cell_type": "code",
   "execution_count": 4,
   "id": "26576f40-9700-4c22-b3fd-b2331f734ad5",
   "metadata": {},
   "outputs": [
    {
     "name": "stdout",
     "output_type": "stream",
     "text": [
      "SPARK_APP: Spark UI - http://358d9e2d6aad:4040\n"
     ]
    }
   ],
   "source": [
    "# Generate Spark Session\n",
    "spark: SparkSession = get_spark_session(f\"Fact load - {table_full_name}\")\n",
    "print(\"SPARK_APP: Spark UI - \" + spark.sparkContext.uiWebUrl)"
   ]
  },
  {
   "cell_type": "code",
   "execution_count": 5,
   "id": "f7ab86d4-80b7-4027-8f3f-e5f4754dbf13",
   "metadata": {},
   "outputs": [],
   "source": [
    "# Spark Configs\n",
    "spark.conf.set(\"spark.sql.shuffle.partitions\", 8)"
   ]
  },
  {
   "cell_type": "code",
   "execution_count": 6,
   "id": "a60aee0f-61d8-498b-8b2b-115606c8cc75",
   "metadata": {},
   "outputs": [
    {
     "name": "stdout",
     "output_type": "stream",
     "text": [
      "SPARK_APP: Staging Data Count - 56\n",
      "SPARK_APP: Printing Staging Schema --\n",
      "root\n",
      " |-- cust_id: string (nullable = true)\n",
      " |-- store_id: string (nullable = true)\n",
      " |-- order_date: string (nullable = true)\n",
      " |-- qty: integer (nullable = true)\n",
      " |-- tax: double (nullable = true)\n",
      " |-- discount: double (nullable = true)\n",
      " |-- line_total: double (nullable = true)\n",
      " |-- order_id: string (nullable = true)\n",
      " |-- invoice_num: string (nullable = true)\n",
      " |-- prod_id: string (nullable = true)\n",
      " |-- product_wid: string (nullable = true)\n",
      " |-- integration_key: string (nullable = true)\n",
      " |-- rundate: string (nullable = true)\n",
      " |-- insert_dt: timestamp (nullable = true)\n",
      " |-- update_dt: timestamp (nullable = true)\n",
      "\n"
     ]
    }
   ],
   "source": [
    "# Read data from Staging\n",
    "df_stg = spark \\\n",
    "    .read \\\n",
    "    .table(staging_table_full_name)\n",
    "\n",
    "print(\"SPARK_APP: Staging Data Count - \" + str(df_stg.count()))\n",
    "print(\"SPARK_APP: Printing Staging Schema --\")\n",
    "df_stg.printSchema()"
   ]
  },
  {
   "cell_type": "code",
   "execution_count": 7,
   "id": "4f0ced3e-ff35-49c0-86c9-a5642cfaf1ac",
   "metadata": {},
   "outputs": [],
   "source": [
    "# Read dim tables to join to with Fact\n",
    "df_dim_store = spark.read.table(\"edw.dim_store\").selectExpr(\"store_id\", \"row_wid as store_wid\")\n",
    "# df_dim_date = spark.read.table(\"edw.dim_date\")\n",
    "df_dim_customer = spark.read.table(\"edw.dim_customer\").where(\"active_flg = 1\").selectExpr(\"customer_id\", \"row_wid as customer_wid\")"
   ]
  },
  {
   "cell_type": "code",
   "execution_count": 8,
   "id": "9ef80ec7-5610-4930-a32e-b80ac091641e",
   "metadata": {},
   "outputs": [
    {
     "name": "stdout",
     "output_type": "stream",
     "text": [
      "SPARK_APP: Fact Data Count - 56\n",
      "SPARK_APP: Printing Fact Schema --\n",
      "root\n",
      " |-- date_wid: string (nullable = true)\n",
      " |-- product_wid: string (nullable = true)\n",
      " |-- store_wid: string (nullable = true)\n",
      " |-- customer_wid: string (nullable = true)\n",
      " |-- order_id: string (nullable = true)\n",
      " |-- invoice_num: string (nullable = true)\n",
      " |-- qty: integer (nullable = true)\n",
      " |-- tax: double (nullable = true)\n",
      " |-- discount: double (nullable = true)\n",
      " |-- line_total: double (nullable = true)\n",
      " |-- integration_key: string (nullable = true)\n",
      " |-- rundate: string (nullable = false)\n",
      " |-- insert_dt: timestamp (nullable = false)\n",
      " |-- update_dt: timestamp (nullable = false)\n",
      "\n"
     ]
    }
   ],
   "source": [
    "# Get SURROGATE KEYs from Dimensions and add to Fact table\n",
    "df_fact = df_stg \\\n",
    "    .join(df_dim_store, how=\"left_outer\", on=df_stg.store_id == df_dim_store.store_id) \\\n",
    "    .join(df_dim_customer, how=\"left_outer\", on=df_stg.cust_id == df_dim_customer.customer_id) \\\n",
    "    .withColumn(\"date_wid\", date_format(\"order_date\", \"yyyyMMdd\")) \\\n",
    "    .withColumn(\"rundate\", lit(rundate)) \\\n",
    "    .withColumn(\"insert_dt\", current_timestamp()) \\\n",
    "    .withColumn(\"update_dt\", current_timestamp()) \\\n",
    "    .select(\"date_wid\", \"product_wid\", \"store_wid\", \"customer_wid\", \"order_id\", \"invoice_num\", \n",
    "           \"qty\", \"tax\", \"discount\", \"line_total\", \"integration_key\", \"rundate\", \"insert_dt\", \"update_dt\")\n",
    "\n",
    "\n",
    "print(\"SPARK_APP: Fact Data Count - \" + str(df_fact.count()))\n",
    "print(\"SPARK_APP: Printing Fact Schema --\")\n",
    "df_fact.printSchema()"
   ]
  },
  {
   "cell_type": "code",
   "execution_count": 9,
   "id": "52f20f87-d37a-4071-8e5d-b00b070dd5ba",
   "metadata": {},
   "outputs": [
    {
     "name": "stdout",
     "output_type": "stream",
     "text": [
      "SPARK_APP: Fact data loaded\n"
     ]
    }
   ],
   "source": [
    "# Insert all records in Delta Table in APPEND mode\n",
    "df_fact.write \\\n",
    "    .format(\"delta\") \\\n",
    "    .mode(\"append\") \\\n",
    "    .saveAsTable(table_full_name)\n",
    "print(\"SPARK_APP: Fact data loaded\")"
   ]
  },
  {
   "cell_type": "code",
   "execution_count": 10,
   "id": "124b4250-8541-434e-b237-fcd8a2955096",
   "metadata": {},
   "outputs": [
    {
     "name": "stdout",
     "output_type": "stream",
     "text": [
      "SPARK_APP: Update JOB Control Log\n"
     ]
    }
   ],
   "source": [
    "# Add job details in JOB CONTROL\n",
    "insert_log(spark, schema_name, table_name, datetime.now(), rundate)\n",
    "print(\"SPARK_APP: Update JOB Control Log\")"
   ]
  },
  {
   "cell_type": "code",
   "execution_count": 11,
   "id": "30cc99a3-c0c3-4f71-8505-fa1f21b07586",
   "metadata": {},
   "outputs": [
    {
     "name": "stdout",
     "output_type": "stream",
     "text": [
      "+-----------+----------+--------------------------+--------+-------------------------+\n",
      "|schema_name|table_name|max_timestamp             |rundate |insert_dt                |\n",
      "+-----------+----------+--------------------------+--------+-------------------------+\n",
      "|edw        |fact_sales|2024-04-20 16:33:09.477955|20220101|2024-04-20 16:33:15.78869|\n",
      "+-----------+----------+--------------------------+--------+-------------------------+\n",
      "\n"
     ]
    }
   ],
   "source": [
    "spark.sql(f\"select * from edw.job_control where table_name = '{table_name}' order by insert_dt desc limit 1\").show(truncate=False)"
   ]
  },
  {
   "cell_type": "code",
   "execution_count": 12,
   "id": "47dfadb7-3116-473e-a3c7-07866271ee58",
   "metadata": {},
   "outputs": [
    {
     "name": "stdout",
     "output_type": "stream",
     "text": [
      "SPARK_APP: Symlink Manifest file generated\n"
     ]
    }
   ],
   "source": [
    "# Generate Symlink manifest for Athena Access\n",
    "dt = DeltaTable.forName(spark, table_full_name)\n",
    "dt.generate(\"symlink_format_manifest\")\n",
    "print(\"SPARK_APP: Symlink Manifest file generated\")"
   ]
  },
  {
   "cell_type": "code",
   "execution_count": 13,
   "id": "637f9a14-c360-48c4-9f6d-d669fa171948",
   "metadata": {},
   "outputs": [
    {
     "name": "stdout",
     "output_type": "stream",
     "text": [
      "+--------+--------------------+--------------------+--------------------+----------------+----------------+---+------------------+------------------+------------------+--------------------+--------+--------------------+--------------------+\n",
      "|date_wid|         product_wid|           store_wid|        customer_wid|        order_id|     invoice_num|qty|               tax|          discount|        line_total|     integration_key| rundate|           insert_dt|           update_dt|\n",
      "+--------+--------------------+--------------------+--------------------+----------------+----------------+---+------------------+------------------+------------------+--------------------+--------+--------------------+--------------------+\n",
      "|20220619|92765f3f-370c-4cb...|44195b28-2858-485...|fce15f28-e015-457...|ORD2022061900000|INV2022061900000|  9|              28.8|               3.6|205.20000000000002|ORD2022061900000~...|20220101|2024-04-20 16:32:...|2024-04-20 16:32:...|\n",
      "|20220619|92765f3f-370c-4cb...|44195b28-2858-485...|fce15f28-e015-457...|ORD2022061900000|INV2022061900000|  2|               8.0|               2.4|              45.6|ORD2022061900000~...|20220101|2024-04-20 16:32:...|2024-04-20 16:32:...|\n",
      "|20220619|447c5fe1-37dd-4af...|44195b28-2858-485...|fce15f28-e015-457...|ORD2022061900000|INV2022061900000|  2|              17.0|               1.2|              55.8|ORD2022061900000~...|20220101|2024-04-20 16:32:...|2024-04-20 16:32:...|\n",
      "|20220619|92765f3f-370c-4cb...|44195b28-2858-485...|fce15f28-e015-457...|ORD2022061900000|INV2022061900000|  5|              13.0|               5.0|             108.0|ORD2022061900000~...|20220101|2024-04-20 16:32:...|2024-04-20 16:32:...|\n",
      "|20220619|cf978ea9-3e28-464...|44195b28-2858-485...|fce15f28-e015-457...|ORD2022061900000|INV2022061900000|  2|               0.0|               6.0|              74.0|ORD2022061900000~...|20220101|2024-04-20 16:32:...|2024-04-20 16:32:...|\n",
      "|20220619|72400d73-83b4-4fe...|44195b28-2858-485...|fce15f28-e015-457...|ORD2022061900000|INV2022061900000|  3|12.600000000000001|               7.2| 95.39999999999999|ORD2022061900000~...|20220101|2024-04-20 16:32:...|2024-04-20 16:32:...|\n",
      "|20220814|e343d2d2-b1f4-4c2...|e60ab280-d568-443...|b15ffdd8-d67d-49f...|ORD2022081410000|INV2022081410000|  6| 42.00000000000001|               6.0|             336.0|ORD2022081410000~...|20220101|2024-04-20 16:32:...|2024-04-20 16:32:...|\n",
      "|20220517|514ae634-f9cc-492...|4eabc28d-bd5d-478...|b15ffdd8-d67d-49f...|ORD2022051720000|INV2022051720000|  6|               2.0|12.600000000000001|             169.4|ORD2022051720000~...|20220101|2024-04-20 16:32:...|2024-04-20 16:32:...|\n",
      "|20220517|6ddbe296-d31d-471...|4eabc28d-bd5d-478...|b15ffdd8-d67d-49f...|ORD2022051720000|INV2022051720000|  8|               4.0|               0.0|             404.0|ORD2022051720000~...|20220101|2024-04-20 16:32:...|2024-04-20 16:32:...|\n",
      "|20220517|92765f3f-370c-4cb...|4eabc28d-bd5d-478...|b15ffdd8-d67d-49f...|ORD2022051720000|INV2022051720000|  8|               0.0|14.399999999999999|             145.6|ORD2022051720000~...|20220101|2024-04-20 16:32:...|2024-04-20 16:32:...|\n",
      "|20220726|6ddbe296-d31d-471...|7a439c57-0d9b-48e...|5f5f0739-ddaa-468...|ORD2022072630000|INV2022072630000|  5|              32.5|               5.0|             277.5|ORD2022072630000~...|20220101|2024-04-20 16:32:...|2024-04-20 16:32:...|\n",
      "|20220726|e4788f7d-1701-49e...|7a439c57-0d9b-48e...|5f5f0739-ddaa-468...|ORD2022072630000|INV2022072630000|  1|               0.0|3.5999999999999996|              36.4|ORD2022072630000~...|20220101|2024-04-20 16:32:...|2024-04-20 16:32:...|\n",
      "|20220802|5a7594e6-b281-426...|6e7a5dff-fc9e-496...|76b686bd-2ab3-4f2...|ORD2022080240000|INV2022080240000|  8|              14.0|               8.0|             486.0|ORD2022080240000~...|20220101|2024-04-20 16:32:...|2024-04-20 16:32:...|\n",
      "|20220802|514ae634-f9cc-492...|6e7a5dff-fc9e-496...|76b686bd-2ab3-4f2...|ORD2022080240000|INV2022080240000|  1|3.9000000000000004|               7.0|              26.9|ORD2022080240000~...|20220101|2024-04-20 16:32:...|2024-04-20 16:32:...|\n",
      "|20220802|1b3aad88-2160-4c2...|6e7a5dff-fc9e-496...|76b686bd-2ab3-4f2...|ORD2022080240000|INV2022080240000|  2|               1.0|               8.0|              73.0|ORD2022080240000~...|20220101|2024-04-20 16:32:...|2024-04-20 16:32:...|\n",
      "|20221229|c7cc89e1-c1c6-44a...|6e7a5dff-fc9e-496...|6f6e419a-5f15-4ad...|ORD2022122950000|INV2022122950000|  3|               3.6|               7.0|              86.6|ORD2022122950000~...|20220101|2024-04-20 16:32:...|2024-04-20 16:32:...|\n",
      "|20220303|e4788f7d-1701-49e...|4eabc28d-bd5d-478...|69230825-de8b-46c...|ORD2022030360000|INV2022030360000|  1|               1.2|               3.0|              38.2|ORD2022030360000~...|20220101|2024-04-20 16:32:...|2024-04-20 16:32:...|\n",
      "|20221117|e4788f7d-1701-49e...|a529ae6a-72de-432...|7d420597-7a33-483...|ORD2022111770000|INV2022111770000|  4|11.200000000000001|14.399999999999999|156.79999999999998|ORD2022111770000~...|20220101|2024-04-20 16:32:...|2024-04-20 16:32:...|\n",
      "|20220311|5a7594e6-b281-426...|7a439c57-0d9b-48e...|69230825-de8b-46c...|ORD2022031180000|INV2022031180000|  5|              14.0|               7.0|             307.0|ORD2022031180000~...|20220101|2024-04-20 16:32:...|2024-04-20 16:32:...|\n",
      "|20220311|5a7594e6-b281-426...|7a439c57-0d9b-48e...|69230825-de8b-46c...|ORD2022031180000|INV2022031180000|  4|               9.6|               0.0|             249.6|ORD2022031180000~...|20220101|2024-04-20 16:32:...|2024-04-20 16:32:...|\n",
      "+--------+--------------------+--------------------+--------------------+----------------+----------------+---+------------------+------------------+------------------+--------------------+--------+--------------------+--------------------+\n",
      "only showing top 20 rows\n",
      "\n"
     ]
    }
   ],
   "source": [
    "spark.sql('select * from edw.fact_sales').show()"
   ]
  },
  {
   "cell_type": "code",
   "execution_count": 14,
   "id": "c31b8e1d-b75f-4e5e-ab94-43d287977ff7",
   "metadata": {},
   "outputs": [],
   "source": [
    "spark.stop()"
   ]
  },
  {
   "cell_type": "code",
   "execution_count": null,
   "id": "e0a158dd-c678-45f5-ad52-404cfdeaf4a5",
   "metadata": {},
   "outputs": [],
   "source": []
  }
 ],
 "metadata": {
  "kernelspec": {
   "display_name": "Python 3 (ipykernel)",
   "language": "python",
   "name": "python3"
  },
  "language_info": {
   "codemirror_mode": {
    "name": "ipython",
    "version": 3
   },
   "file_extension": ".py",
   "mimetype": "text/x-python",
   "name": "python",
   "nbconvert_exporter": "python",
   "pygments_lexer": "ipython3",
   "version": "3.10.14"
  }
 },
 "nbformat": 4,
 "nbformat_minor": 5
}
