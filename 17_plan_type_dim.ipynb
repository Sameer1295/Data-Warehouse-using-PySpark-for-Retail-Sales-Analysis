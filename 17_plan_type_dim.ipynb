{
 "cells": [
  {
   "cell_type": "code",
   "execution_count": 1,
   "id": "3dca2c88-35d1-4b14-8c1c-feda25637781",
   "metadata": {},
   "outputs": [],
   "source": [
    "# Script to load plan type"
   ]
  },
  {
   "cell_type": "code",
   "execution_count": 2,
   "id": "4349d2b5-8634-4681-852f-faa4291dbbc8",
   "metadata": {},
   "outputs": [],
   "source": [
    "# Import required libraries\n",
    "import sys\n",
    "from lib.spark_session import get_spark_session\n",
    "from lib.utils import date_data, get_string_cols, get_rundate\n",
    "from lib.job_control import insert_log, get_max_timestamp\n",
    "from pyspark.sql import SparkSession, DataFrame\n",
    "from pyspark.sql.functions import current_timestamp, expr, to_date, date_format, udf, lit\n",
    "from pyspark.sql.types import StringType\n",
    "from datetime import datetime\n",
    "from delta import DeltaTable\n",
    "import uuid"
   ]
  },
  {
   "cell_type": "code",
   "execution_count": 3,
   "id": "c681ebc5-28a2-4450-97c2-5752615edfc5",
   "metadata": {},
   "outputs": [
    {
     "name": "stdout",
     "output_type": "stream",
     "text": [
      "SPARK_APP: JOB triggered for rundate - 20220101\n"
     ]
    }
   ],
   "source": [
    "# JOB Parameters\n",
    "rundate = get_rundate()\n",
    "schema_name = \"edw\"\n",
    "table_name = \"dim_plan_type\"\n",
    "table_full_name = f\"{schema_name}.{table_name}\"\n",
    "print(\"SPARK_APP: JOB triggered for rundate - \" + rundate)"
   ]
  },
  {
   "cell_type": "code",
   "execution_count": 4,
   "id": "3c445126-648d-4e41-8bcd-30df8654e410",
   "metadata": {},
   "outputs": [
    {
     "name": "stdout",
     "output_type": "stream",
     "text": [
      "SPARK_APP: Spark UI - http://358d9e2d6aad:4040\n"
     ]
    }
   ],
   "source": [
    "# Generate Spark Session\n",
    "spark: SparkSession = get_spark_session(f\"Dim load - {table_full_name}\")\n",
    "print(\"SPARK_APP: Spark UI - \" + spark.sparkContext.uiWebUrl)"
   ]
  },
  {
   "cell_type": "code",
   "execution_count": 5,
   "id": "c549781c-f41a-45c7-9856-fa24d72a782e",
   "metadata": {},
   "outputs": [],
   "source": [
    "# Create Plan Type Dimension data and Schema\n",
    "\n",
    "_schema = [\"plan_type_code\", \"plan_name\"]\n",
    "_data = [\n",
    "    [\"G\", \"GOLD\"],\n",
    "    [\"P\", \"PLATINUM\"],\n",
    "    [\"D\", \"DIAMOND\"],\n",
    "    [\"S\", \"SILVER\"],\n",
    "    [\"NA\", \"NOT APPLICABLE\"]\n",
    "]\n",
    "\n",
    "# Create dataframe\n",
    "df = spark.createDataFrame(data=_data, schema=_schema)"
   ]
  },
  {
   "cell_type": "code",
   "execution_count": 6,
   "id": "f8171fb0-8568-40cc-8b60-ba595766943f",
   "metadata": {},
   "outputs": [
    {
     "name": "stdout",
     "output_type": "stream",
     "text": [
      "+--------------+--------------+--------+--------------------+--------------------+\n",
      "|plan_type_code|     plan_name| rundate|           insert_dt|           update_dt|\n",
      "+--------------+--------------+--------+--------------------+--------------------+\n",
      "|             G|          GOLD|20220101|2024-04-20 19:38:...|2024-04-20 19:38:...|\n",
      "|             P|      PLATINUM|20220101|2024-04-20 19:38:...|2024-04-20 19:38:...|\n",
      "|             D|       DIAMOND|20220101|2024-04-20 19:38:...|2024-04-20 19:38:...|\n",
      "|             S|        SILVER|20220101|2024-04-20 19:38:...|2024-04-20 19:38:...|\n",
      "|            NA|NOT APPLICABLE|20220101|2024-04-20 19:38:...|2024-04-20 19:38:...|\n",
      "+--------------+--------------+--------+--------------------+--------------------+\n",
      "\n"
     ]
    }
   ],
   "source": [
    "# Add required audit columns\n",
    "df_dim = df.withColumn(\"rundate\", lit(rundate)) \\\n",
    "    .withColumn(\"insert_dt\", current_timestamp()) \\\n",
    "    .withColumn(\"update_dt\", current_timestamp())\n",
    "\n",
    "df_dim.show()"
   ]
  },
  {
   "cell_type": "code",
   "execution_count": 7,
   "id": "673447e3-6bf2-418d-ac91-434c1ec5b402",
   "metadata": {},
   "outputs": [
    {
     "name": "stdout",
     "output_type": "stream",
     "text": [
      "SPARK_APP: Dim data loaded\n"
     ]
    }
   ],
   "source": [
    "# Insert all records in Delta Table in OVERWRITE mode\n",
    "df_dim.write \\\n",
    "    .format(\"delta\") \\\n",
    "    .mode(\"overwrite\") \\\n",
    "    .saveAsTable(table_full_name)\n",
    "print(\"SPARK_APP: Dim data loaded\")"
   ]
  },
  {
   "cell_type": "code",
   "execution_count": 8,
   "id": "8134dcf9-ca3f-4781-9b41-e57e612ab244",
   "metadata": {},
   "outputs": [
    {
     "name": "stdout",
     "output_type": "stream",
     "text": [
      "SPARK_APP: Update JOB Control Log\n"
     ]
    }
   ],
   "source": [
    "# Add job details in JOB CONTROL\n",
    "insert_log(spark, schema_name, table_name, datetime.now(), rundate)\n",
    "print(\"SPARK_APP: Update JOB Control Log\")"
   ]
  },
  {
   "cell_type": "code",
   "execution_count": 9,
   "id": "f27858ff-0737-4e3f-9137-0433a2a340c6",
   "metadata": {},
   "outputs": [
    {
     "name": "stdout",
     "output_type": "stream",
     "text": [
      "+-----------+-------------+--------------------------+--------+--------------------------+\n",
      "|schema_name|table_name   |max_timestamp             |rundate |insert_dt                 |\n",
      "+-----------+-------------+--------------------------+--------+--------------------------+\n",
      "|edw        |dim_plan_type|2024-04-20 19:39:02.060425|20220101|2024-04-20 19:39:09.011622|\n",
      "+-----------+-------------+--------------------------+--------+--------------------------+\n",
      "\n"
     ]
    }
   ],
   "source": [
    "spark.sql(f\"select * from edw.job_control where table_name = '{table_name}' order by insert_dt desc limit 1\").show(truncate=False)"
   ]
  },
  {
   "cell_type": "code",
   "execution_count": 10,
   "id": "b939596e-2e52-440e-bd5c-ab806888c238",
   "metadata": {},
   "outputs": [
    {
     "name": "stdout",
     "output_type": "stream",
     "text": [
      "SPARK_APP: Symlink Manifest file generated\n"
     ]
    }
   ],
   "source": [
    "# Generate Symlink manifest for Athena Access\n",
    "dt = DeltaTable.forName(spark, table_full_name)\n",
    "dt.generate(\"symlink_format_manifest\")\n",
    "print(\"SPARK_APP: Symlink Manifest file generated\")"
   ]
  },
  {
   "cell_type": "code",
   "execution_count": 11,
   "id": "74e0da99-91ef-4491-9966-14c5cde8b035",
   "metadata": {},
   "outputs": [
    {
     "name": "stdout",
     "output_type": "stream",
     "text": [
      "+--------------+--------------+--------+--------------------+--------------------+\n",
      "|plan_type_code|     plan_name| rundate|           insert_dt|           update_dt|\n",
      "+--------------+--------------+--------+--------------------+--------------------+\n",
      "|             S|        SILVER|20220101|2024-04-20 19:38:...|2024-04-20 19:38:...|\n",
      "|            NA|NOT APPLICABLE|20220101|2024-04-20 19:38:...|2024-04-20 19:38:...|\n",
      "|             P|      PLATINUM|20220101|2024-04-20 19:38:...|2024-04-20 19:38:...|\n",
      "|             D|       DIAMOND|20220101|2024-04-20 19:38:...|2024-04-20 19:38:...|\n",
      "|             G|          GOLD|20220101|2024-04-20 19:38:...|2024-04-20 19:38:...|\n",
      "+--------------+--------------+--------+--------------------+--------------------+\n",
      "\n"
     ]
    }
   ],
   "source": [
    "spark.sql(\"select * from edw.dim_plan_type\").show()"
   ]
  },
  {
   "cell_type": "code",
   "execution_count": 12,
   "id": "63432bc4-a0d9-4344-a7dd-cbb642a23f74",
   "metadata": {},
   "outputs": [],
   "source": [
    "spark.stop()"
   ]
  },
  {
   "cell_type": "code",
   "execution_count": null,
   "id": "1215194a-9207-4490-9e44-98e510d59dc6",
   "metadata": {},
   "outputs": [],
   "source": []
  },
  {
   "cell_type": "code",
   "execution_count": null,
   "id": "fdcd88fe-9012-41e7-91a2-148e575de060",
   "metadata": {},
   "outputs": [],
   "source": []
  }
 ],
 "metadata": {
  "kernelspec": {
   "display_name": "Python 3 (ipykernel)",
   "language": "python",
   "name": "python3"
  },
  "language_info": {
   "codemirror_mode": {
    "name": "ipython",
    "version": 3
   },
   "file_extension": ".py",
   "mimetype": "text/x-python",
   "name": "python",
   "nbconvert_exporter": "python",
   "pygments_lexer": "ipython3",
   "version": "3.10.14"
  }
 },
 "nbformat": 4,
 "nbformat_minor": 5
}
