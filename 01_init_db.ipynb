{
 "cells": [
  {
   "cell_type": "code",
   "execution_count": 16,
   "id": "6f7098e2-ee13-4790-b849-3f25adfb3498",
   "metadata": {},
   "outputs": [],
   "source": [
    "# Script to initialize the Data Warehouse\\Lakehouse and create the required tables\n",
    "# Import required libraries\n",
    "from pyspark.sql import SparkSession\n",
    "from lib.spark_session import get_spark_session"
   ]
  },
  {
   "cell_type": "code",
   "execution_count": 17,
   "id": "b2c601de-0379-436c-b28a-1f7b198e283f",
   "metadata": {},
   "outputs": [
    {
     "name": "stdout",
     "output_type": "stream",
     "text": [
      "SPARK_APP: Spark Session UI - http://358d9e2d6aad:4042\n"
     ]
    }
   ],
   "source": [
    "# Generate SparkSession\n",
    "spark: SparkSession = get_spark_session(\"Drop Databases\")\n",
    "print(\"SPARK_APP: Spark Session UI - \"+ spark.sparkContext.uiWebUrl)"
   ]
  },
  {
   "cell_type": "code",
   "execution_count": 5,
   "id": "2ec1d12a-d09e-49ec-95e9-dcd8a040a085",
   "metadata": {},
   "outputs": [
    {
     "name": "stdout",
     "output_type": "stream",
     "text": [
      "+---------+\n",
      "|namespace|\n",
      "+---------+\n",
      "|  default|\n",
      "|      edw|\n",
      "|   edw_ld|\n",
      "|  edw_stg|\n",
      "+---------+\n",
      "\n"
     ]
    }
   ],
   "source": [
    "# Create dw schema in catalog\n",
    "spark.sql(\"create database if not exists edw\");\n",
    "spark.sql(\"create database if not exists edw_stg\");\n",
    "spark.sql(\"create database if not exists edw_ld\");\n",
    "spark.sql(\"show databases\").show();"
   ]
  },
  {
   "cell_type": "code",
   "execution_count": 6,
   "id": "1a143052-4b83-4ca7-9c09-48d001cd7b36",
   "metadata": {},
   "outputs": [
    {
     "name": "stdout",
     "output_type": "stream",
     "text": [
      "SPARK-APP: Store dimension created\n"
     ]
    }
   ],
   "source": [
    "# Create Store Dim table\n",
    "spark.sql(\"\"\"drop table if exists edw.dim_store\"\"\");\n",
    "\n",
    "spark.sql(\"\"\"\n",
    "create table edw.dim_store (\n",
    "    row_wid string,\n",
    "    store_id string,\n",
    "    store_name string,\n",
    "    address string,\n",
    "    city string,\n",
    "    state string,\n",
    "    zip_code string,\n",
    "    phone_number string,\n",
    "    rundate string,\n",
    "    insert_dt timestamp,\n",
    "    update_dt timestamp\n",
    ")\n",
    "USING delta\n",
    ";\n",
    "\"\"\");\n",
    "\n",
    "print(\"SPARK-APP: Store dimension created\")"
   ]
  },
  {
   "cell_type": "code",
   "execution_count": 7,
   "id": "e3aeb915-eaca-437e-8118-04523026ba21",
   "metadata": {},
   "outputs": [
    {
     "name": "stdout",
     "output_type": "stream",
     "text": [
      "SPARK-APP: Plan Type dimension created\n"
     ]
    }
   ],
   "source": [
    "# Create Plan Type Dimension\n",
    "spark.sql(\"\"\"drop table if exists edw.dim_plan_type\"\"\");\n",
    "spark.sql(\"\"\"\n",
    "create table edw.dim_plan_type (\n",
    "    plan_type_code string,\n",
    "    plan_name string,\n",
    "    rundate string,\n",
    "    insert_dt timestamp,\n",
    "    update_dt timestamp\n",
    ")\n",
    "USING delta\n",
    ";\n",
    "\"\"\");\n",
    "\n",
    "print(\"SPARK-APP: Plan Type dimension created\")"
   ]
  },
  {
   "cell_type": "code",
   "execution_count": 18,
   "id": "8b619c64-cd13-441d-8610-c311ab7e412c",
   "metadata": {},
   "outputs": [
    {
     "name": "stdout",
     "output_type": "stream",
     "text": [
      "SPARK-APP: Date dimension created\n"
     ]
    }
   ],
   "source": [
    "# Create Date Dimension\n",
    "spark.sql(\"\"\"drop table if exists edw.dim_date\"\"\");\n",
    "spark.sql(\"\"\"\n",
    "create table edw.dim_date (\n",
    "    row_wid string,\n",
    "    date date,\n",
    "    day int,\n",
    "    month int,\n",
    "    year int,\n",
    "    day_of_week string,\n",
    "    rundate string,\n",
    "    insert_dt timestamp,\n",
    "    update_dt timestamp\n",
    ")\n",
    "USING delta\n",
    ";\n",
    "\"\"\");\n",
    "\n",
    "print(\"SPARK-APP: Date dimension created\")"
   ]
  },
  {
   "cell_type": "code",
   "execution_count": 9,
   "id": "07390811-4782-407b-90d8-2830d8e258ca",
   "metadata": {},
   "outputs": [
    {
     "name": "stdout",
     "output_type": "stream",
     "text": [
      "SPARK-APP: Product dimension created\n"
     ]
    }
   ],
   "source": [
    "# Create Product Dimension\n",
    "spark.sql(\"\"\"drop table if exists edw.dim_product\"\"\");\n",
    "spark.sql(\"\"\"\n",
    "create table edw.dim_product (\n",
    "    row_wid string,\n",
    "    product_id string,\n",
    "    product_name string,\n",
    "    brand string,\n",
    "    type string,\n",
    "    flavor string,\n",
    "    size string,\n",
    "    price double,\n",
    "    expiration_dt date,\n",
    "    image_url string,\n",
    "    effective_start_dt timestamp,\n",
    "    effective_end_dt timestamp,\n",
    "    active_flg int,\n",
    "    rundate string,\n",
    "    insert_dt timestamp,\n",
    "    update_dt timestamp\n",
    ")\n",
    "USING delta\n",
    ";\n",
    "\"\"\");\n",
    "\n",
    "print(\"SPARK-APP: Product dimension created\")"
   ]
  },
  {
   "cell_type": "code",
   "execution_count": 10,
   "id": "4e3a90bb-bec6-46c0-9089-c660df2b3fe4",
   "metadata": {},
   "outputs": [
    {
     "name": "stdout",
     "output_type": "stream",
     "text": [
      "SPARK-APP: Customer dimension created\n"
     ]
    }
   ],
   "source": [
    "# Create Customer Dimension\n",
    "spark.sql(\"\"\"drop table if exists edw.dim_customer\"\"\");\n",
    "spark.sql(\"\"\"\n",
    "create table edw.dim_customer (\n",
    "    row_wid string,\n",
    "    customer_id string,\n",
    "    first_name string,\n",
    "    last_name string,\n",
    "    address string,\n",
    "    city string,\n",
    "    state string,\n",
    "    zip_code string,\n",
    "    phone_number string,\n",
    "    email string,\n",
    "    date_of_birth date,\n",
    "    plan_type string,\n",
    "    effective_start_dt timestamp,\n",
    "    effective_end_dt timestamp,\n",
    "    active_flg int,\n",
    "    rundate string,\n",
    "    insert_dt timestamp,\n",
    "    update_dt timestamp\n",
    ")\n",
    "USING delta\n",
    ";\n",
    "\"\"\");\n",
    "\n",
    "print(\"SPARK-APP: Customer dimension created\")"
   ]
  },
  {
   "cell_type": "code",
   "execution_count": 12,
   "id": "b4a8023a-ed2a-4d98-bc54-c2c8cd19b3e5",
   "metadata": {},
   "outputs": [
    {
     "name": "stdout",
     "output_type": "stream",
     "text": [
      "SPARK-APP: Sales Fact created\n"
     ]
    }
   ],
   "source": [
    "# Create Sales Fact\n",
    "spark.sql(\"\"\"drop table if exists edw.fact_sales\"\"\");\n",
    "spark.sql(\"\"\"\n",
    "create table edw.fact_sales (\n",
    "    date_wid string,\n",
    "    product_wid string,\n",
    "    store_wid string,\n",
    "    customer_wid string,\n",
    "    order_id string,\n",
    "    invoice_num string,\n",
    "    qty int,\n",
    "    tax double,\n",
    "    discount double,\n",
    "    line_total double,\n",
    "    integration_key string,\n",
    "    rundate string,\n",
    "    insert_dt timestamp,\n",
    "    update_dt timestamp\n",
    ")\n",
    "USING delta\n",
    ";\n",
    "\"\"\");\n",
    "\n",
    "print(\"SPARK-APP: Sales Fact created\")"
   ]
  },
  {
   "cell_type": "code",
   "execution_count": 13,
   "id": "348d9746-98d8-47c8-adeb-0135c19268c3",
   "metadata": {},
   "outputs": [
    {
     "name": "stdout",
     "output_type": "stream",
     "text": [
      "SPARK-APP: JOB Control table created\n"
     ]
    }
   ],
   "source": [
    "# Create Audit table\n",
    "spark.sql(\"\"\"drop table if exists edw.job_control\"\"\");\n",
    "spark.sql(\"\"\"\n",
    "create table edw.job_control (\n",
    "    schema_name string,\n",
    "    table_name string,\n",
    "    max_timestamp timestamp,\n",
    "    rundate string,\n",
    "    insert_dt timestamp\n",
    ")\n",
    "USING delta\n",
    ";\n",
    "\"\"\");\n",
    "\n",
    "print(\"SPARK-APP: JOB Control table created\")"
   ]
  },
  {
   "cell_type": "code",
   "execution_count": 14,
   "id": "df0cfb0c-f016-4b0f-ac88-184c031a7958",
   "metadata": {},
   "outputs": [
    {
     "name": "stdout",
     "output_type": "stream",
     "text": [
      "+---------+-------------+-----------+\n",
      "|namespace|    tableName|isTemporary|\n",
      "+---------+-------------+-----------+\n",
      "|      edw| dim_customer|      false|\n",
      "|      edw|     dim_date|      false|\n",
      "|      edw|dim_plan_type|      false|\n",
      "|      edw|  dim_product|      false|\n",
      "|      edw|    dim_store|      false|\n",
      "|      edw|   fact_sales|      false|\n",
      "|      edw|  job_control|      false|\n",
      "+---------+-------------+-----------+\n",
      "\n"
     ]
    }
   ],
   "source": [
    "# Log all tables in Data Warehouse/Lakehouse\n",
    "\n",
    "spark.sql(\"show tables in edw\").show()"
   ]
  },
  {
   "cell_type": "code",
   "execution_count": 15,
   "id": "58823707-c619-4e56-8097-cac6f3ee6d74",
   "metadata": {},
   "outputs": [],
   "source": [
    "spark.stop()\n"
   ]
  },
  {
   "cell_type": "code",
   "execution_count": null,
   "id": "047d0e9f-d0e8-485d-8aef-f73c2c2ef0ab",
   "metadata": {},
   "outputs": [],
   "source": []
  }
 ],
 "metadata": {
  "kernelspec": {
   "display_name": "Python 3 (ipykernel)",
   "language": "python",
   "name": "python3"
  },
  "language_info": {
   "codemirror_mode": {
    "name": "ipython",
    "version": 3
   },
   "file_extension": ".py",
   "mimetype": "text/x-python",
   "name": "python",
   "nbconvert_exporter": "python",
   "pygments_lexer": "ipython3",
   "version": "3.10.14"
  }
 },
 "nbformat": 4,
 "nbformat_minor": 5
}
