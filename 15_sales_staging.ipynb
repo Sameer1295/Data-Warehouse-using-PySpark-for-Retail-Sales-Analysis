{
 "cells": [
  {
   "cell_type": "code",
   "execution_count": 1,
   "id": "ab681021-e9c1-4d18-91d7-09024dbe3e54",
   "metadata": {},
   "outputs": [],
   "source": [
    "# Script to create date for Fact Staging"
   ]
  },
  {
   "cell_type": "code",
   "execution_count": 2,
   "id": "ad46595c-a675-4c29-bac5-2aee8419422c",
   "metadata": {},
   "outputs": [],
   "source": [
    "# Import required libraries\n",
    "import sys\n",
    "from lib.spark_session import get_spark_session\n",
    "from lib.utils import date_data, get_string_cols, get_rundate\n",
    "from lib.job_control import insert_log, get_max_timestamp\n",
    "from pyspark.sql import SparkSession, DataFrame\n",
    "from pyspark.sql.functions import current_timestamp, expr, to_date, lit, split, to_timestamp, coalesce, from_json, explode\n",
    "from datetime import datetime\n",
    "from delta import DeltaTable"
   ]
  },
  {
   "cell_type": "code",
   "execution_count": 3,
   "id": "7b2e47fe-bd97-4e84-8a9f-742a9a9e38cd",
   "metadata": {},
   "outputs": [
    {
     "name": "stdout",
     "output_type": "stream",
     "text": [
      "SPARK_APP: JOB triggered for rundate - 20220101\n"
     ]
    }
   ],
   "source": [
    "# JOB Parameters\n",
    "rundate = get_rundate()\n",
    "schema_name = \"edw_stg\"\n",
    "table_name = \"fact_sales_stg\"\n",
    "table_full_name = f\"{schema_name}.{table_name}\"\n",
    "landing_table_full_name = \"edw_ld.fact_sales_ld\"\n",
    "print(\"SPARK_APP: JOB triggered for rundate - \" + rundate)"
   ]
  },
  {
   "cell_type": "code",
   "execution_count": 4,
   "id": "df6a7746-2971-4a91-a33b-948cd6bcdfc5",
   "metadata": {},
   "outputs": [
    {
     "name": "stdout",
     "output_type": "stream",
     "text": [
      "SPARK_APP: Spark UI - http://358d9e2d6aad:4040\n"
     ]
    }
   ],
   "source": [
    "# Generate Spark Session\n",
    "spark: SparkSession = get_spark_session(f\"Staging load - {table_full_name}\")\n",
    "print(\"SPARK_APP: Spark UI - \" + spark.sparkContext.uiWebUrl)"
   ]
  },
  {
   "cell_type": "code",
   "execution_count": 5,
   "id": "98561456-3041-4da1-adde-6e4cb111c7c5",
   "metadata": {},
   "outputs": [],
   "source": [
    "# Spark Configs\n",
    "spark.conf.set(\"spark.sql.shuffle.partitions\", 8)\n",
    "spark.conf.set(\"spark.sql.parquet.mergeSchema\", True)"
   ]
  },
  {
   "cell_type": "code",
   "execution_count": 6,
   "id": "4e4c4e59-cf62-458c-90d6-897c4e711114",
   "metadata": {},
   "outputs": [
    {
     "name": "stdout",
     "output_type": "stream",
     "text": [
      "SPARK_APP: Max timestamp for staging data load - 1900-01-01 00:00:00.000000\n"
     ]
    }
   ],
   "source": [
    "# Get the max_timestamp for data load in staging\n",
    "max_timestamp = get_max_timestamp(spark, schema_name, table_name)\n",
    "print(\"SPARK_APP: Max timestamp for staging data load - \" + max_timestamp)"
   ]
  },
  {
   "cell_type": "code",
   "execution_count": 8,
   "id": "6c6d993b-6928-4596-bd38-386c3a6bee88",
   "metadata": {},
   "outputs": [
    {
     "name": "stdout",
     "output_type": "stream",
     "text": [
      "SPARK_APP: Landing Data Count - 1\n",
      "SPARK_APP: Printing Landing Schema --\n",
      "root\n",
      " |-- value: string (nullable = true)\n",
      " |-- insert_dt: timestamp (nullable = true)\n",
      " |-- rundate: string (nullable = true)\n",
      "\n"
     ]
    }
   ],
   "source": [
    "# Read data from landing based on max timestamp\n",
    "df_ld = spark \\\n",
    "    .read \\\n",
    "    .table(landing_table_full_name) \\\n",
    "    .where(f\"insert_dt > to_timestamp('{max_timestamp}')\")\n",
    "\n",
    "print(\"SPARK_APP: Landing Data Count - \" + str(df_ld.count()))\n",
    "print(\"SPARK_APP: Printing Landing Schema --\")\n",
    "df_ld.printSchema()"
   ]
  },
  {
   "cell_type": "code",
   "execution_count": 9,
   "id": "e8546575-98e3-49e9-9bc0-be9a3eb6f901",
   "metadata": {},
   "outputs": [
    {
     "name": "stdout",
     "output_type": "stream",
     "text": [
      "SPARK_APP: Printing Landing Parsed JSON Schema - StructType([StructField('orders', ArrayType(StructType([StructField('cust_id', StringType(), True), StructField('invoice_num', StringType(), True), StructField('order_date', StringType(), True), StructField('order_id', StringType(), True), StructField('order_lines', ArrayType(StructType([StructField('currency_code', StringType(), True), StructField('discount', LongType(), True), StructField('discount_type', StringType(), True), StructField('prod_id', StringType(), True), StructField('qty', LongType(), True), StructField('tax', LongType(), True), StructField('tax_type', StringType(), True)]), True), True), StructField('store_id', StringType(), True), StructField('system_date', StringType(), True)]), True), True)])\n"
     ]
    }
   ],
   "source": [
    "# Determine the schema of the JSON payload from the column\n",
    "json_schema_df = spark.read.json(df_ld.rdd.map(lambda row: row.value))\n",
    "json_schema = json_schema_df.schema\n",
    "print(\"SPARK_APP: Printing Landing Parsed JSON Schema - \" + str(json_schema))"
   ]
  },
  {
   "cell_type": "code",
   "execution_count": 10,
   "id": "e8cc8e41-802d-40f7-888c-4ab4b7ae8da2",
   "metadata": {},
   "outputs": [
    {
     "name": "stdout",
     "output_type": "stream",
     "text": [
      "SPARK_APP: Printing Exploded & Flattened JSON Schema --\n",
      "root\n",
      " |-- insert_dt: timestamp (nullable = true)\n",
      " |-- rundate: string (nullable = true)\n",
      " |-- cust_id: string (nullable = true)\n",
      " |-- invoice_num: string (nullable = true)\n",
      " |-- order_date: string (nullable = true)\n",
      " |-- order_id: string (nullable = true)\n",
      " |-- store_id: string (nullable = true)\n",
      " |-- system_date: string (nullable = true)\n",
      " |-- currency_code: string (nullable = true)\n",
      " |-- discount: long (nullable = true)\n",
      " |-- discount_type: string (nullable = true)\n",
      " |-- prod_id: string (nullable = true)\n",
      " |-- qty: long (nullable = true)\n",
      " |-- tax: long (nullable = true)\n",
      " |-- tax_type: string (nullable = true)\n",
      "\n",
      "SPARK_APP: Total Exploded records - 56\n"
     ]
    }
   ],
   "source": [
    "# Assign schema dynamically to read the JSON column\n",
    "df_stg_temp = df_ld.withColumn(\"sales_data\", from_json(df_ld[\"value\"], json_schema))\n",
    "\n",
    "# Explode the column orders\n",
    "df_exploded_temp = df_stg_temp.withColumn(\"orders\", explode(\"sales_data.orders\")).select(\"*\", \"orders.*\")\n",
    "\n",
    "# Explode the order line items\n",
    "df_exploded = df_exploded_temp.withColumn(\"order_line_items\", explode(\"order_lines\")).select(\"*\", \"order_line_items.*\").drop(\"value\", \"sales_data\", \"orders\", \"order_lines\", \"order_line_items\")\n",
    "print(\"SPARK_APP: Printing Exploded & Flattened JSON Schema --\")\n",
    "df_exploded.printSchema()\n",
    "print(\"SPARK_APP: Total Exploded records - \" + str(df_exploded.count()))"
   ]
  },
  {
   "cell_type": "code",
   "execution_count": 11,
   "id": "df8c1b61-ef4f-4df0-865f-e10f7a8ea2a7",
   "metadata": {},
   "outputs": [
    {
     "name": "stdout",
     "output_type": "stream",
     "text": [
      "SPARK_APP: Printing Temp STG schema after calculations --\n",
      "root\n",
      " |-- insert_dt: timestamp (nullable = true)\n",
      " |-- rundate: string (nullable = true)\n",
      " |-- cust_id: string (nullable = true)\n",
      " |-- invoice_num: string (nullable = true)\n",
      " |-- order_date: string (nullable = true)\n",
      " |-- order_id: string (nullable = true)\n",
      " |-- store_id: string (nullable = true)\n",
      " |-- system_date: string (nullable = true)\n",
      " |-- currency_code: string (nullable = true)\n",
      " |-- discount: double (nullable = true)\n",
      " |-- discount_type: string (nullable = true)\n",
      " |-- prod_id: string (nullable = true)\n",
      " |-- qty: long (nullable = true)\n",
      " |-- tax: double (nullable = true)\n",
      " |-- tax_type: string (nullable = true)\n",
      " |-- row_wid: string (nullable = true)\n",
      " |-- product_id: string (nullable = true)\n",
      " |-- price: double (nullable = true)\n",
      " |-- sub_total: double (nullable = true)\n",
      " |-- line_total: double (nullable = true)\n",
      "\n"
     ]
    }
   ],
   "source": [
    "# Desired calculations for TAX, DISCOUNT and LINE ITEM TOTAL\n",
    "# LINE_ITEM_TOTAL = (QTY X PRICE) + TAX - DISCOUNT\n",
    "\n",
    "# Get Product Dim to get price\n",
    "df_dim_prod = spark.read.table(\"edw.dim_product\").where(\"active_flg = 1\").select(\"row_wid\", \"product_id\", \"price\")\n",
    "\n",
    "# Join with product and calculate the columns\n",
    "df_stg_temp = df_exploded.join(df_dim_prod, how=\"left_outer\", on=df_exploded.prod_id == df_dim_prod.product_id) \\\n",
    "    .withColumn(\"sub_total\", expr(\"qty * price\")) \\\n",
    "    .withColumn(\"tax\", expr(\"case when tax_type = 'INR' then tax else (tax/100)*sub_total end\")) \\\n",
    "    .withColumn(\"discount\", expr(\"case when discount_type = 'INR' then discount else (discount/100)*sub_total end\")) \\\n",
    "    .withColumn(\"line_total\", expr(\"sub_total + tax - discount\"))\n",
    "\n",
    "print(\"SPARK_APP: Printing Temp STG schema after calculations --\")\n",
    "df_stg_temp.printSchema()"
   ]
  },
  {
   "cell_type": "code",
   "execution_count": 12,
   "id": "f1dcfbc1-8371-4599-92e7-9e92b2ef4369",
   "metadata": {},
   "outputs": [
    {
     "name": "stdout",
     "output_type": "stream",
     "text": [
      "SPARK_APP: Staging Data Count - 56\n",
      "SPARK_APP: Printing Staging Schema --\n",
      "root\n",
      " |-- cust_id: string (nullable = true)\n",
      " |-- store_id: string (nullable = true)\n",
      " |-- order_date: string (nullable = true)\n",
      " |-- qty: integer (nullable = true)\n",
      " |-- tax: double (nullable = true)\n",
      " |-- discount: double (nullable = true)\n",
      " |-- line_total: double (nullable = true)\n",
      " |-- order_id: string (nullable = true)\n",
      " |-- invoice_num: string (nullable = true)\n",
      " |-- prod_id: string (nullable = true)\n",
      " |-- product_wid: string (nullable = true)\n",
      " |-- integration_key: string (nullable = true)\n",
      " |-- rundate: string (nullable = false)\n",
      " |-- insert_dt: timestamp (nullable = false)\n",
      " |-- update_dt: timestamp (nullable = false)\n",
      "\n"
     ]
    }
   ],
   "source": [
    "# Format the landing data\n",
    "df_stg = df_stg_temp.select(\"cust_id\", \"store_id\", \"order_date\", \"qty\", \"tax\", \"discount\", \"line_total\", \"order_id\", \"invoice_num\", \"prod_id\", \"row_wid\") \\\n",
    "    .withColumn(\"product_wid\", expr(\"row_wid\")) \\\n",
    "    .withColumn(\"integration_key\", expr(\"order_id||'~'||prod_id||'~'||store_id||'~'||cust_id||'~'||order_date\")) \\\n",
    "    .withColumn(\"qty\", expr(\"cast (qty as int)\")) \\\n",
    "    .withColumn(\"rundate\", lit(\"rundate\")) \\\n",
    "    .withColumn(\"insert_dt\", current_timestamp()) \\\n",
    "    .withColumn(\"update_dt\", current_timestamp()) \\\n",
    "    .drop(\"row_wid\")\n",
    "\n",
    "print(\"SPARK_APP: Staging Data Count - \" + str(df_stg.count()))\n",
    "print(\"SPARK_APP: Printing Staging Schema --\")\n",
    "df_stg.printSchema()"
   ]
  },
  {
   "cell_type": "code",
   "execution_count": 13,
   "id": "c9bcaab0-5802-4e1a-8ef3-53a2357344bd",
   "metadata": {},
   "outputs": [
    {
     "name": "stdout",
     "output_type": "stream",
     "text": [
      "SPARK_APP: Data written to staging table\n"
     ]
    }
   ],
   "source": [
    "# Write the data to Staging table in overwrite mode for truncate\n",
    "df_stg.write \\\n",
    "    .format(\"delta\") \\\n",
    "    .mode(\"overwrite\") \\\n",
    "    .saveAsTable(table_full_name)\n",
    "\n",
    "print(\"SPARK_APP: Data written to staging table\")"
   ]
  },
  {
   "cell_type": "code",
   "execution_count": 14,
   "id": "0a3823a3-5c43-46bd-a7c5-993fcea4acfe",
   "metadata": {},
   "outputs": [
    {
     "name": "stdout",
     "output_type": "stream",
     "text": [
      "SPARK_APP: Update JOB Control Log\n"
     ]
    }
   ],
   "source": [
    "# Add job details in JOB CONTROL\n",
    "insert_log(spark, schema_name, table_name, datetime.now(), rundate)\n",
    "print(\"SPARK_APP: Update JOB Control Log\")"
   ]
  },
  {
   "cell_type": "code",
   "execution_count": 15,
   "id": "9dc882a9-cf7f-46b6-b2c0-8db657369918",
   "metadata": {},
   "outputs": [
    {
     "name": "stdout",
     "output_type": "stream",
     "text": [
      "+-----------+--------------+--------------------------+--------+--------------------------+\n",
      "|schema_name|table_name    |max_timestamp             |rundate |insert_dt                 |\n",
      "+-----------+--------------+--------------------------+--------+--------------------------+\n",
      "|edw_stg    |fact_sales_stg|2024-04-20 16:28:59.695604|20220101|2024-04-20 16:29:01.035754|\n",
      "+-----------+--------------+--------------------------+--------+--------------------------+\n",
      "\n"
     ]
    }
   ],
   "source": [
    "spark.sql(f\"select * from edw.job_control where table_name = '{table_name}' order by insert_dt desc limit 1\").show(truncate=False)"
   ]
  },
  {
   "cell_type": "code",
   "execution_count": 16,
   "id": "c90ff929-84f7-4a68-891f-1969c7ec77f3",
   "metadata": {},
   "outputs": [
    {
     "name": "stdout",
     "output_type": "stream",
     "text": [
      "+-------+---------------+---------------------+--------------------+-------------+\n",
      "|version|executionTimeMs|numTargetRowsInserted|numTargetRowsUpdated|numOutputRows|\n",
      "+-------+---------------+---------------------+--------------------+-------------+\n",
      "|0      |null           |null                 |null                |56           |\n",
      "+-------+---------------+---------------------+--------------------+-------------+\n",
      "\n"
     ]
    }
   ],
   "source": [
    "# Get the logs from delta table version\n",
    "dt = DeltaTable.forName(spark, table_full_name)\n",
    "dt.history().limit(1).select(\"version\",\"operationMetrics.executionTimeMs\", \n",
    "                                 \"operationMetrics.numTargetRowsInserted\",\n",
    "                                \"operationMetrics.numTargetRowsUpdated\",\n",
    "                                \"operationMetrics.numOutputRows\").show(1, False)"
   ]
  },
  {
   "cell_type": "code",
   "execution_count": 17,
   "id": "eb3e4c4d-0c83-49e7-bb2a-9e6d33bd5fc4",
   "metadata": {},
   "outputs": [
    {
     "name": "stdout",
     "output_type": "stream",
     "text": [
      "SPARK_APP: Symlink Manifest file generated\n"
     ]
    }
   ],
   "source": [
    "# Generate Symlink manifest for Athena Access\n",
    "dt.generate(\"symlink_format_manifest\")\n",
    "print(\"SPARK_APP: Symlink Manifest file generated\")"
   ]
  },
  {
   "cell_type": "code",
   "execution_count": 18,
   "id": "bf4a5996-d2fb-4b56-8a4d-97670e29e517",
   "metadata": {},
   "outputs": [],
   "source": [
    "spark.stop()"
   ]
  },
  {
   "cell_type": "code",
   "execution_count": null,
   "id": "35875ac4-6f1d-4249-b33b-f54023e4e4a8",
   "metadata": {},
   "outputs": [],
   "source": []
  }
 ],
 "metadata": {
  "kernelspec": {
   "display_name": "Python 3 (ipykernel)",
   "language": "python",
   "name": "python3"
  },
  "language_info": {
   "codemirror_mode": {
    "name": "ipython",
    "version": 3
   },
   "file_extension": ".py",
   "mimetype": "text/x-python",
   "name": "python",
   "nbconvert_exporter": "python",
   "pygments_lexer": "ipython3",
   "version": "3.10.14"
  }
 },
 "nbformat": 4,
 "nbformat_minor": 5
}
