{
 "cells": [
  {
   "cell_type": "code",
   "execution_count": 1,
   "id": "e5cddfb9-c3d8-4bb3-aa10-5fb31f34822a",
   "metadata": {},
   "outputs": [],
   "source": [
    "# Script to Load Dimesion"
   ]
  },
  {
   "cell_type": "code",
   "execution_count": 2,
   "id": "efc970b0-13d3-446f-9a9a-809da3f1aeff",
   "metadata": {},
   "outputs": [],
   "source": [
    "# Import required libraries\n",
    "import sys\n",
    "from lib.spark_session import get_spark_session\n",
    "from lib.utils import date_data, get_string_cols, get_rundate\n",
    "from lib.job_control import insert_log, get_max_timestamp\n",
    "from pyspark.sql import SparkSession, DataFrame\n",
    "from pyspark.sql.functions import current_timestamp, expr, to_date, date_format, udf\n",
    "from pyspark.sql.types import StringType\n",
    "from datetime import datetime\n",
    "from delta import DeltaTable\n",
    "import uuid"
   ]
  },
  {
   "cell_type": "code",
   "execution_count": 3,
   "id": "34fcdbb7-66b1-47a4-b6a8-683a571cb540",
   "metadata": {},
   "outputs": [
    {
     "name": "stdout",
     "output_type": "stream",
     "text": [
      "SPARK_APP: JOB triggered for rundate - 20220101\n"
     ]
    }
   ],
   "source": [
    "# JOB Parameters\n",
    "rundate = get_rundate()\n",
    "schema_name = \"edw\"\n",
    "table_name = \"dim_store\"\n",
    "table_full_name = f\"{schema_name}.{table_name}\"\n",
    "staging_table_full_name = \"edw_stg.dim_store_stg\"\n",
    "print(\"SPARK_APP: JOB triggered for rundate - \" + rundate)"
   ]
  },
  {
   "cell_type": "code",
   "execution_count": 4,
   "id": "6eb6e2cd-9248-480e-8714-93cd2e888514",
   "metadata": {},
   "outputs": [
    {
     "name": "stdout",
     "output_type": "stream",
     "text": [
      "SPARK_APP: Spark UI - http://358d9e2d6aad:4040\n"
     ]
    }
   ],
   "source": [
    "# Generate Spark Session\n",
    "spark: SparkSession = get_spark_session(f\"Dimension load - {table_full_name}\")\n",
    "print(\"SPARK_APP: Spark UI - \" + spark.sparkContext.uiWebUrl)"
   ]
  },
  {
   "cell_type": "code",
   "execution_count": 5,
   "id": "c9b3dc76-11e6-47d0-9538-95219151c3fc",
   "metadata": {},
   "outputs": [],
   "source": [
    "# Spark Configs\n",
    "spark.conf.set(\"spark.sql.shuffle.partitions\", 8)"
   ]
  },
  {
   "cell_type": "code",
   "execution_count": 6,
   "id": "9e6aedb9-db24-4b54-b5d8-2c763854e630",
   "metadata": {},
   "outputs": [
    {
     "name": "stdout",
     "output_type": "stream",
     "text": [
      "SPARK_APP: Staging Data Count - 7\n",
      "SPARK_APP: Printing Staging Schema --\n",
      "root\n",
      " |-- store_id: string (nullable = true)\n",
      " |-- store_name: string (nullable = true)\n",
      " |-- address: string (nullable = true)\n",
      " |-- city: string (nullable = true)\n",
      " |-- state: string (nullable = true)\n",
      " |-- zip_code: string (nullable = true)\n",
      " |-- phone_number: string (nullable = true)\n",
      " |-- insert_dt: timestamp (nullable = true)\n",
      " |-- rundate: string (nullable = true)\n",
      " |-- update_dt: timestamp (nullable = true)\n",
      "\n"
     ]
    }
   ],
   "source": [
    "# Read data from Staging\n",
    "df_stg = spark \\\n",
    "    .read \\\n",
    "    .table(staging_table_full_name)\n",
    "\n",
    "print(\"SPARK_APP: Staging Data Count - \" + str(df_stg.count()))\n",
    "print(\"SPARK_APP: Printing Staging Schema --\")\n",
    "df_stg.printSchema()"
   ]
  },
  {
   "cell_type": "code",
   "execution_count": 8,
   "id": "c1655e96-8730-41d9-91ea-5a719ea64351",
   "metadata": {},
   "outputs": [],
   "source": [
    "# Generated uuid UDF for Surrogate Key\n",
    "uuidUDF = udf(lambda : str(uuid.uuid4()),StringType())"
   ]
  },
  {
   "cell_type": "code",
   "execution_count": 9,
   "id": "b7cb181f-3f45-4f97-95d0-f666cfb13807",
   "metadata": {},
   "outputs": [
    {
     "name": "stdout",
     "output_type": "stream",
     "text": [
      "SPARK_APP: Dim Temp Data Count - 7\n",
      "SPARK_APP: Printing Dim Temp Schema --\n",
      "root\n",
      " |-- store_id: string (nullable = true)\n",
      " |-- store_name: string (nullable = true)\n",
      " |-- address: string (nullable = true)\n",
      " |-- city: string (nullable = true)\n",
      " |-- state: string (nullable = true)\n",
      " |-- zip_code: string (nullable = true)\n",
      " |-- phone_number: string (nullable = true)\n",
      " |-- insert_dt: timestamp (nullable = true)\n",
      " |-- rundate: string (nullable = true)\n",
      " |-- update_dt: timestamp (nullable = true)\n",
      " |-- row_wid: string (nullable = true)\n",
      "\n"
     ]
    }
   ],
   "source": [
    "# Generate SURROGATE KEYs\n",
    "df_dim_temp = df_stg.withColumn(\"row_wid\", uuidUDF())\n",
    "\n",
    "print(\"SPARK_APP: Dim Temp Data Count - \" + str(df_dim_temp.count()))\n",
    "print(\"SPARK_APP: Printing Dim Temp Schema --\")\n",
    "df_dim_temp.printSchema()"
   ]
  },
  {
   "cell_type": "code",
   "execution_count": 10,
   "id": "f19fc62f-f28c-4534-bbb8-27c1dab807b2",
   "metadata": {},
   "outputs": [
    {
     "name": "stdout",
     "output_type": "stream",
     "text": [
      "SPARK_APP: Table is set for full load\n"
     ]
    }
   ],
   "source": [
    "# Get the delta table for Upserts (SCD1)\n",
    "dt_dim = DeltaTable.forName(spark, table_full_name)\n",
    "\n",
    "# Validate if the load is full load\n",
    "if get_max_timestamp(spark, schema_name, table_name) == \"1900-01-01 00:00:00.000000\":\n",
    "    print(\"SPARK_APP: Table is set for full load\") \n",
    "    # Truncate the Dimension table\n",
    "    spark.conf.set(\"spark.databricks.delta.retentionDurationCheck.enabled\", False)\n",
    "    dt_dim.delete(f\"1=1\")\n",
    "    dt_dim.vacuum(0)\n",
    "    \n",
    "# Create the UPSERT logic\n",
    "dt_dim.alias(\"dim_store\") \\\n",
    "    .merge(df_dim_temp.alias(\"dim_temp\"), \"dim_store.store_id = dim_temp.store_id\") \\\n",
    "    .whenMatchedUpdate(set =\n",
    "        {\n",
    "           \"store_name\" : \"dim_temp.store_name\",\n",
    "            \"address\" : \"dim_temp.address\",\n",
    "            \"city\" : \"dim_temp.city\",\n",
    "            \"state\" : \"dim_temp.state\",\n",
    "            \"zip_code\" : \"dim_temp.zip_code\",\n",
    "            \"phone_number\" : \"dim_temp.phone_number\",\n",
    "            \"rundate\" : \"dim_temp.rundate\",\n",
    "            \"update_dt\" : \"dim_temp.update_dt\"\n",
    "        }  \n",
    "    ) \\\n",
    "    .whenNotMatchedInsertAll() \\\n",
    "    .execute()"
   ]
  },
  {
   "cell_type": "code",
   "execution_count": 11,
   "id": "b79ca98e-3ff3-4aff-8d85-8c5ecda19af4",
   "metadata": {},
   "outputs": [
    {
     "name": "stdout",
     "output_type": "stream",
     "text": [
      "SPARK_APP: Update JOB Control Log\n"
     ]
    }
   ],
   "source": [
    "# Add job details in JOB CONTROL\n",
    "insert_log(spark, schema_name, table_name, datetime.now(), rundate)\n",
    "print(\"SPARK_APP: Update JOB Control Log\")"
   ]
  },
  {
   "cell_type": "code",
   "execution_count": 12,
   "id": "b5d044e3-5fdd-45c9-8c22-49b65d0e5cf4",
   "metadata": {},
   "outputs": [
    {
     "name": "stdout",
     "output_type": "stream",
     "text": [
      "+-----------+----------+-------------------------+--------+--------------------------+\n",
      "|schema_name|table_name|max_timestamp            |rundate |insert_dt                 |\n",
      "+-----------+----------+-------------------------+--------+--------------------------+\n",
      "|edw        |dim_store |2024-04-20 11:36:42.96976|20220101|2024-04-20 11:36:43.845243|\n",
      "+-----------+----------+-------------------------+--------+--------------------------+\n",
      "\n"
     ]
    }
   ],
   "source": [
    "spark.sql(f\"select * from edw.job_control where table_name = '{table_name}' order by insert_dt desc limit 1\").show(truncate=False)"
   ]
  },
  {
   "cell_type": "code",
   "execution_count": 13,
   "id": "52da5c6d-0ac1-4ea7-8c57-0bcd7734a3f2",
   "metadata": {},
   "outputs": [
    {
     "name": "stdout",
     "output_type": "stream",
     "text": [
      "+-------+---------------+---------------------+--------------------+-------------+\n",
      "|version|executionTimeMs|numTargetRowsInserted|numTargetRowsUpdated|numOutputRows|\n",
      "+-------+---------------+---------------------+--------------------+-------------+\n",
      "|1      |11491          |7                    |0                   |7            |\n",
      "+-------+---------------+---------------------+--------------------+-------------+\n",
      "\n"
     ]
    }
   ],
   "source": [
    "# Get the logs from delta table version\n",
    "dt_dim.history().limit(1).select(\"version\",\"operationMetrics.executionTimeMs\", \n",
    "                                 \"operationMetrics.numTargetRowsInserted\",\n",
    "                                \"operationMetrics.numTargetRowsUpdated\",\n",
    "                                \"operationMetrics.numOutputRows\").show(1, False)"
   ]
  },
  {
   "cell_type": "code",
   "execution_count": 14,
   "id": "407818a7-a082-4090-877f-a881177424d7",
   "metadata": {},
   "outputs": [
    {
     "name": "stdout",
     "output_type": "stream",
     "text": [
      "SPARK_APP: Symlink Manifest file generated\n"
     ]
    }
   ],
   "source": [
    "# Generate Symlink manifest for Athena Access\n",
    "dt = DeltaTable.forName(spark, table_full_name)\n",
    "dt.generate(\"symlink_format_manifest\")\n",
    "print(\"SPARK_APP: Symlink Manifest file generated\")"
   ]
  },
  {
   "cell_type": "code",
   "execution_count": 15,
   "id": "02b6b1a7-ca4b-498d-aae1-14f7d75414d1",
   "metadata": {},
   "outputs": [
    {
     "name": "stdout",
     "output_type": "stream",
     "text": [
      "+--------------------+--------+------------+--------------+-----------+-----+--------+--------------+--------+--------------------+--------------------+\n",
      "|             row_wid|store_id|  store_name|       address|       city|state|zip_code|  phone_number| rundate|           insert_dt|           update_dt|\n",
      "+--------------------+--------+------------+--------------+-----------+-----+--------+--------------+--------+--------------------+--------------------+\n",
      "|e60ab280-d568-443...|    S002|Pet House MH|    456 Elm St|Anothertown|   MH|   67890|91-99999-99999|20220101|2024-04-20 11:26:...|2024-04-20 11:26:...|\n",
      "|a529ae6a-72de-432...|    S004|Pet House OR|321 Birch Blvd| Small Town|   OR|   76684|91-88822-00000|20220101|2024-04-20 11:26:...|2024-04-20 11:26:...|\n",
      "|44195b28-2858-485...|    S005|Pet House WB|   654 Pine St|   Busytown|   WB|   11111|91-00002-22222|20220101|2024-04-20 11:26:...|2024-04-20 11:26:...|\n",
      "|7a439c57-0d9b-48e...|    S006|Pet House JK|  987 Cedar Rd|  Hill Town|   JK|   22222|91-33330-33333|20220101|2024-04-20 11:26:...|2024-04-20 11:26:...|\n",
      "|6e7a5dff-fc9e-496...|    S007|Pet House GJ|  246 Maple St|   Anywhere|   GJ|   33333|91-55555-61000|20220101|2024-04-20 11:26:...|2024-04-20 11:26:...|\n",
      "|60af8524-2e5f-429...|    S001|Pet House KA|   123 Main St|    Anytown|   KA|   12345|91-88929-88888|20220101|2024-04-20 11:26:...|2024-04-20 11:26:...|\n",
      "|4eabc28d-bd5d-478...|    S003|Pet House TN|   789 Oak Ave|    Bigcity|   TN|    9876|91-77777-77777|20220101|2024-04-20 11:26:...|2024-04-20 11:26:...|\n",
      "+--------------------+--------+------------+--------------+-----------+-----+--------+--------------+--------+--------------------+--------------------+\n",
      "\n"
     ]
    }
   ],
   "source": [
    "# Validate data\n",
    "spark.sql('select * from edw.dim_store').show()"
   ]
  },
  {
   "cell_type": "code",
   "execution_count": 16,
   "id": "eae96df8-ea09-4d81-97d8-e15de6601a14",
   "metadata": {},
   "outputs": [
    {
     "name": "stdout",
     "output_type": "stream",
     "text": [
      "+--------+------------+--------------+-----------+-----+--------+--------------+--------------------+--------+--------------------+\n",
      "|store_id|  store_name|       address|       city|state|zip_code|  phone_number|           insert_dt| rundate|           update_dt|\n",
      "+--------+------------+--------------+-----------+-----+--------+--------------+--------------------+--------+--------------------+\n",
      "|    S001|Pet House KA|   123 Main St|    Anytown|   KA|   12345|91-88929-88888|2024-04-20 11:26:...|20220101|2024-04-20 11:26:...|\n",
      "|    S002|Pet House MH|    456 Elm St|Anothertown|   MH|   67890|91-99999-99999|2024-04-20 11:26:...|20220101|2024-04-20 11:26:...|\n",
      "|    S003|Pet House TN|   789 Oak Ave|    Bigcity|   TN|    9876|91-77777-77777|2024-04-20 11:26:...|20220101|2024-04-20 11:26:...|\n",
      "|    S004|Pet House OR|321 Birch Blvd| Small Town|   OR|   76684|91-88822-00000|2024-04-20 11:26:...|20220101|2024-04-20 11:26:...|\n",
      "|    S005|Pet House WB|   654 Pine St|   Busytown|   WB|   11111|91-00002-22222|2024-04-20 11:26:...|20220101|2024-04-20 11:26:...|\n",
      "|    S006|Pet House JK|  987 Cedar Rd|  Hill Town|   JK|   22222|91-33330-33333|2024-04-20 11:26:...|20220101|2024-04-20 11:26:...|\n",
      "|    S007|Pet House GJ|  246 Maple St|   Anywhere|   GJ|   33333|91-55555-61000|2024-04-20 11:26:...|20220101|2024-04-20 11:26:...|\n",
      "+--------+------------+--------------+-----------+-----+--------+--------------+--------------------+--------+--------------------+\n",
      "\n"
     ]
    }
   ],
   "source": [
    "spark.sql('select * from edw_stg.dim_store_stg').show()"
   ]
  },
  {
   "cell_type": "code",
   "execution_count": 17,
   "id": "14a54af2-aee3-46ee-91c0-23927ee449e9",
   "metadata": {},
   "outputs": [
    {
     "name": "stdout",
     "output_type": "stream",
     "text": [
      "+--------+------------+--------------+-----------+-----+--------+--------------+--------------------+--------+\n",
      "|store_id|  store_name|       address|       city|state|zip_code|  phone_number|           insert_dt| rundate|\n",
      "+--------+------------+--------------+-----------+-----+--------+--------------+--------------------+--------+\n",
      "|    S001|Pet House KA|   123 Main St|    Anytown|   KA|   12345|91-88929-88888|2024-04-20 07:26:...|20220101|\n",
      "|    S002|Pet House MH|    456 Elm St|Anothertown|   MH|   67890|91-99999-99999|2024-04-20 07:26:...|20220101|\n",
      "|    S003|Pet House TN|   789 Oak Ave|    Bigcity|   TN|    9876|91-77777-77777|2024-04-20 07:26:...|20220101|\n",
      "|    S004|Pet House OR|321 Birch Blvd| Small Town|   OR|   76684|91-88822-00000|2024-04-20 07:26:...|20220101|\n",
      "|    S005|Pet House WB|   654 Pine St|   Busytown|   WB|   11111|91-00002-22222|2024-04-20 07:26:...|20220101|\n",
      "|    S006|Pet House JK|  987 Cedar Rd|  Hill Town|   JK|   22222|91-33330-33333|2024-04-20 07:26:...|20220101|\n",
      "|    S007|Pet House GJ|  246 Maple St|   Anywhere|   GJ|   33333|91-55555-61000|2024-04-20 07:26:...|20220101|\n",
      "+--------+------------+--------------+-----------+-----+--------+--------------+--------------------+--------+\n",
      "\n"
     ]
    }
   ],
   "source": [
    "spark.sql('select * from edw_ld.dim_store_ld').show()"
   ]
  },
  {
   "cell_type": "code",
   "execution_count": null,
   "id": "f6a297bd-1088-495e-b896-640619e513db",
   "metadata": {},
   "outputs": [],
   "source": [
    "spark.stop()"
   ]
  }
 ],
 "metadata": {
  "kernelspec": {
   "display_name": "Python 3 (ipykernel)",
   "language": "python",
   "name": "python3"
  },
  "language_info": {
   "codemirror_mode": {
    "name": "ipython",
    "version": 3
   },
   "file_extension": ".py",
   "mimetype": "text/x-python",
   "name": "python",
   "nbconvert_exporter": "python",
   "pygments_lexer": "ipython3",
   "version": "3.10.14"
  }
 },
 "nbformat": 4,
 "nbformat_minor": 5
}
