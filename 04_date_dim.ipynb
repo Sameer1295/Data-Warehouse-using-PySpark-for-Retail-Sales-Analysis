{
 "cells": [
  {
   "cell_type": "code",
   "execution_count": 1,
   "id": "9293c11d-fb5a-45ac-b591-ddec00fe5e52",
   "metadata": {},
   "outputs": [],
   "source": [
    "# Script to Load Date Dimesion"
   ]
  },
  {
   "cell_type": "code",
   "execution_count": 2,
   "id": "f897228d-948f-4aeb-8ce8-3df622f05297",
   "metadata": {},
   "outputs": [],
   "source": [
    "# Import required libraries\n",
    "import sys\n",
    "from lib.spark_session import get_spark_session\n",
    "from lib.utils import date_data, get_string_cols, get_rundate\n",
    "from lib.job_control import insert_log, get_max_timestamp\n",
    "from pyspark.sql import SparkSession, DataFrame\n",
    "from pyspark.sql.functions import current_timestamp, expr, to_date, date_format\n",
    "from datetime import datetime\n",
    "from delta import DeltaTable"
   ]
  },
  {
   "cell_type": "code",
   "execution_count": 3,
   "id": "0f8a80ab-ffe6-4ced-98a7-a56377748e21",
   "metadata": {},
   "outputs": [
    {
     "name": "stdout",
     "output_type": "stream",
     "text": [
      "SPARK_APP: JOB triggered for rundate - 20220101\n"
     ]
    }
   ],
   "source": [
    "# JOB Parameters\n",
    "rundate = get_rundate()\n",
    "schema_name = \"edw\"\n",
    "table_name = \"dim_date\"\n",
    "table_full_name = f\"{schema_name}.{table_name}\"\n",
    "staging_table_full_name = \"edw_stg.dim_date_stg\"\n",
    "print(\"SPARK_APP: JOB triggered for rundate - \" + rundate)"
   ]
  },
  {
   "cell_type": "code",
   "execution_count": 4,
   "id": "74316519-ea7d-4207-898c-f75b28e5adbd",
   "metadata": {},
   "outputs": [
    {
     "name": "stdout",
     "output_type": "stream",
     "text": [
      "SPARK_APP: Spark UI - http://358d9e2d6aad:4040\n"
     ]
    }
   ],
   "source": [
    "# Generate Spark Session\n",
    "spark: SparkSession = get_spark_session(f\"Dimension load - {table_full_name}\")\n",
    "print(\"SPARK_APP: Spark UI - \" + spark.sparkContext.uiWebUrl)"
   ]
  },
  {
   "cell_type": "code",
   "execution_count": 5,
   "id": "ce7ab53b-ef3d-4b7e-a300-44b7c088a541",
   "metadata": {},
   "outputs": [],
   "source": [
    "# Spark Configs\n",
    "spark.conf.set(\"spark.sql.shuffle.partitions\", 8)"
   ]
  },
  {
   "cell_type": "code",
   "execution_count": 6,
   "id": "ae45c5a1-717b-4605-88cb-59ca2ef7b255",
   "metadata": {},
   "outputs": [
    {
     "name": "stdout",
     "output_type": "stream",
     "text": [
      "SPARK_APP: Staging Data Count - 729\n",
      "SPARK_APP: Printing Staging Schema --\n",
      "root\n",
      " |-- date: date (nullable = true)\n",
      " |-- day: integer (nullable = true)\n",
      " |-- month: integer (nullable = true)\n",
      " |-- year: integer (nullable = true)\n",
      " |-- day_of_week: string (nullable = true)\n",
      " |-- insert_dt: timestamp (nullable = true)\n",
      " |-- rundate: string (nullable = true)\n",
      " |-- update_dt: timestamp (nullable = true)\n",
      "\n"
     ]
    }
   ],
   "source": [
    "# Read data from Staging\n",
    "df_stg = spark \\\n",
    "    .read \\\n",
    "    .table(staging_table_full_name)\n",
    "\n",
    "print(\"SPARK_APP: Staging Data Count - \" + str(df_stg.count()))\n",
    "print(\"SPARK_APP: Printing Staging Schema --\")\n",
    "df_stg.printSchema()"
   ]
  },
  {
   "cell_type": "code",
   "execution_count": 9,
   "id": "eb40474b-d466-4316-aba4-995327584dd3",
   "metadata": {},
   "outputs": [
    {
     "name": "stdout",
     "output_type": "stream",
     "text": [
      "SPARK_APP: Dim Temp Data Count - 729\n",
      "SPARK_APP: Printing Dim Temp Schema --\n",
      "root\n",
      " |-- date: date (nullable = true)\n",
      " |-- day: integer (nullable = true)\n",
      " |-- month: integer (nullable = true)\n",
      " |-- year: integer (nullable = true)\n",
      " |-- day_of_week: string (nullable = true)\n",
      " |-- insert_dt: timestamp (nullable = true)\n",
      " |-- rundate: string (nullable = true)\n",
      " |-- update_dt: timestamp (nullable = true)\n",
      " |-- row_wid: string (nullable = true)\n",
      "\n"
     ]
    }
   ],
   "source": [
    "# Generate SURROGATE KEYs\n",
    "df_dim_temp = df_stg.withColumn(\"row_wid\", date_format(\"date\", \"yyyyMMdd\"))\n",
    "\n",
    "print(\"SPARK_APP: Dim Temp Data Count - \" + str(df_dim_temp.count()))\n",
    "print(\"SPARK_APP: Printing Dim Temp Schema --\")\n",
    "df_dim_temp.printSchema()"
   ]
  },
  {
   "cell_type": "code",
   "execution_count": 10,
   "id": "30d8092d-3b2a-4f73-9da4-825e6fc50d8c",
   "metadata": {},
   "outputs": [
    {
     "name": "stdout",
     "output_type": "stream",
     "text": [
      "+----------+---+-----+----+-----------+--------------------+--------+--------------------+--------+\n",
      "|      date|day|month|year|day_of_week|           insert_dt| rundate|           update_dt| row_wid|\n",
      "+----------+---+-----+----+-----------+--------------------+--------+--------------------+--------+\n",
      "|2022-01-01|  1|    1|2022|   Saturday|2024-04-19 11:05:...|20220101|2024-04-19 11:05:...|20220101|\n",
      "|2022-01-02|  2|    1|2022|     Sunday|2024-04-19 11:05:...|20220101|2024-04-19 11:05:...|20220102|\n",
      "|2022-01-03|  3|    1|2022|     Monday|2024-04-19 11:05:...|20220101|2024-04-19 11:05:...|20220103|\n",
      "|2022-01-04|  4|    1|2022|    Tuesday|2024-04-19 11:05:...|20220101|2024-04-19 11:05:...|20220104|\n",
      "|2022-01-05|  5|    1|2022|  Wednesday|2024-04-19 11:05:...|20220101|2024-04-19 11:05:...|20220105|\n",
      "|2022-01-06|  6|    1|2022|   Thursday|2024-04-19 11:05:...|20220101|2024-04-19 11:05:...|20220106|\n",
      "|2022-01-07|  7|    1|2022|     Friday|2024-04-19 11:05:...|20220101|2024-04-19 11:05:...|20220107|\n",
      "|2022-01-08|  8|    1|2022|   Saturday|2024-04-19 11:05:...|20220101|2024-04-19 11:05:...|20220108|\n",
      "|2022-01-09|  9|    1|2022|     Sunday|2024-04-19 11:05:...|20220101|2024-04-19 11:05:...|20220109|\n",
      "|2022-01-10| 10|    1|2022|     Monday|2024-04-19 11:05:...|20220101|2024-04-19 11:05:...|20220110|\n",
      "|2022-01-11| 11|    1|2022|    Tuesday|2024-04-19 11:05:...|20220101|2024-04-19 11:05:...|20220111|\n",
      "|2022-01-12| 12|    1|2022|  Wednesday|2024-04-19 11:05:...|20220101|2024-04-19 11:05:...|20220112|\n",
      "|2022-01-13| 13|    1|2022|   Thursday|2024-04-19 11:05:...|20220101|2024-04-19 11:05:...|20220113|\n",
      "|2022-01-14| 14|    1|2022|     Friday|2024-04-19 11:05:...|20220101|2024-04-19 11:05:...|20220114|\n",
      "|2022-01-15| 15|    1|2022|   Saturday|2024-04-19 11:05:...|20220101|2024-04-19 11:05:...|20220115|\n",
      "|2022-01-16| 16|    1|2022|     Sunday|2024-04-19 11:05:...|20220101|2024-04-19 11:05:...|20220116|\n",
      "|2022-01-17| 17|    1|2022|     Monday|2024-04-19 11:05:...|20220101|2024-04-19 11:05:...|20220117|\n",
      "|2022-01-18| 18|    1|2022|    Tuesday|2024-04-19 11:05:...|20220101|2024-04-19 11:05:...|20220118|\n",
      "|2022-01-19| 19|    1|2022|  Wednesday|2024-04-19 11:05:...|20220101|2024-04-19 11:05:...|20220119|\n",
      "|2022-01-20| 20|    1|2022|   Thursday|2024-04-19 11:05:...|20220101|2024-04-19 11:05:...|20220120|\n",
      "+----------+---+-----+----+-----------+--------------------+--------+--------------------+--------+\n",
      "only showing top 20 rows\n",
      "\n"
     ]
    }
   ],
   "source": [
    "df_dim_temp.show()"
   ]
  },
  {
   "cell_type": "code",
   "execution_count": 11,
   "id": "e3030081-a1fd-4152-a83a-b5646844be51",
   "metadata": {},
   "outputs": [
    {
     "name": "stdout",
     "output_type": "stream",
     "text": [
      "SPARK_APP: Table is set for full load\n"
     ]
    }
   ],
   "source": [
    "# Get the delta table for Upserts (SCD1)\n",
    "dt_dim = DeltaTable.forName(spark, table_full_name)\n",
    "\n",
    "# Validate if the load is full load\n",
    "if get_max_timestamp(spark, schema_name, table_name) == \"1900-01-01 00:00:00.000000\":\n",
    "    print(\"SPARK_APP: Table is set for full load\") \n",
    "    # Truncate the Dimension table\n",
    "    spark.conf.set(\"spark.databricks.delta.retentionDurationCheck.enabled\", False)\n",
    "    dt_dim.delete(f\"1=1\")\n",
    "    dt_dim.vacuum(0)\n",
    "\n",
    "# Create the UPSERT logic\n",
    "dt_dim.alias(\"dim_date\") \\\n",
    "    .merge(df_dim_temp.alias(\"dim_temp\"), \"dim_date.date = dim_temp.date\") \\\n",
    "    .whenMatchedUpdateAll() \\\n",
    "    .whenNotMatchedInsertAll() \\\n",
    "    .execute()"
   ]
  },
  {
   "cell_type": "code",
   "execution_count": 12,
   "id": "7bc9d98f-fc93-4f9d-b301-b0c54ccfe783",
   "metadata": {},
   "outputs": [
    {
     "name": "stdout",
     "output_type": "stream",
     "text": [
      "SPARK_APP: Update JOB Control Log\n"
     ]
    }
   ],
   "source": [
    "# Add job details in JOB CONTROL\n",
    "insert_log(spark, schema_name, table_name, datetime.now(), rundate)\n",
    "print(\"SPARK_APP: Update JOB Control Log\")"
   ]
  },
  {
   "cell_type": "code",
   "execution_count": 13,
   "id": "53a47d1f-a0ab-4a6f-831c-2b5a4c1c0a03",
   "metadata": {},
   "outputs": [
    {
     "name": "stdout",
     "output_type": "stream",
     "text": [
      "+-----------+----------+-------------------------+--------+--------------------------+\n",
      "|schema_name|table_name|max_timestamp            |rundate |insert_dt                 |\n",
      "+-----------+----------+-------------------------+--------+--------------------------+\n",
      "|edw        |dim_date  |2024-04-20 06:11:29.99702|20220101|2024-04-20 06:11:31.004221|\n",
      "+-----------+----------+-------------------------+--------+--------------------------+\n",
      "\n"
     ]
    }
   ],
   "source": [
    "spark.sql(f\"select * from edw.job_control where table_name = '{table_name}' order by insert_dt desc limit 1\").show(truncate=False)"
   ]
  },
  {
   "cell_type": "code",
   "execution_count": 14,
   "id": "8b28adcc-5ddc-424c-9258-0a23c875d9b0",
   "metadata": {},
   "outputs": [
    {
     "name": "stdout",
     "output_type": "stream",
     "text": [
      "+-------+---------------+---------------------+--------------------+-------------+\n",
      "|version|executionTimeMs|numTargetRowsInserted|numTargetRowsUpdated|numOutputRows|\n",
      "+-------+---------------+---------------------+--------------------+-------------+\n",
      "|1      |17507          |729                  |0                   |729          |\n",
      "+-------+---------------+---------------------+--------------------+-------------+\n",
      "\n"
     ]
    }
   ],
   "source": [
    "# Get the logs from delta table version\n",
    "dt_dim.history().limit(1).select(\"version\",\"operationMetrics.executionTimeMs\", \n",
    "                                 \"operationMetrics.numTargetRowsInserted\",\n",
    "                                \"operationMetrics.numTargetRowsUpdated\",\n",
    "                                \"operationMetrics.numOutputRows\").show(1, False)"
   ]
  },
  {
   "cell_type": "code",
   "execution_count": 15,
   "id": "14933c6d-5f3a-482c-82ab-adf4796991af",
   "metadata": {},
   "outputs": [
    {
     "name": "stdout",
     "output_type": "stream",
     "text": [
      "SPARK_APP: Symlink Manifest file generated\n"
     ]
    }
   ],
   "source": [
    "# Generate Symlink manifest for Athena Access\n",
    "dt = DeltaTable.forName(spark, table_full_name)\n",
    "dt.generate(\"symlink_format_manifest\")\n",
    "print(\"SPARK_APP: Symlink Manifest file generated\")"
   ]
  },
  {
   "cell_type": "code",
   "execution_count": 16,
   "id": "bda3b07d-8880-404c-9b3e-5ad1f109ebd5",
   "metadata": {},
   "outputs": [],
   "source": [
    "spark.stop()"
   ]
  },
  {
   "cell_type": "code",
   "execution_count": null,
   "id": "652cac88-2d0c-4283-b819-7f9bdff525de",
   "metadata": {},
   "outputs": [],
   "source": []
  }
 ],
 "metadata": {
  "kernelspec": {
   "display_name": "Python 3 (ipykernel)",
   "language": "python",
   "name": "python3"
  },
  "language_info": {
   "codemirror_mode": {
    "name": "ipython",
    "version": 3
   },
   "file_extension": ".py",
   "mimetype": "text/x-python",
   "name": "python",
   "nbconvert_exporter": "python",
   "pygments_lexer": "ipython3",
   "version": "3.10.14"
  }
 },
 "nbformat": 4,
 "nbformat_minor": 5
}
