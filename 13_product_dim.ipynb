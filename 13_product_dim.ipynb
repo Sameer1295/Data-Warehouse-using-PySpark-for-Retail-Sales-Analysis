{
 "cells": [
  {
   "cell_type": "code",
   "execution_count": 1,
   "id": "f7bf633c-731f-4c49-852e-f33e60ad3ff7",
   "metadata": {},
   "outputs": [],
   "source": [
    "# Script to Load Dimesion"
   ]
  },
  {
   "cell_type": "code",
   "execution_count": 2,
   "id": "bac75ea0-334a-455d-802b-4ecbc42c8259",
   "metadata": {},
   "outputs": [],
   "source": [
    "# Import required libraries\n",
    "import sys\n",
    "from lib.spark_session import get_spark_session\n",
    "from lib.utils import date_data, get_string_cols, get_rundate\n",
    "from lib.job_control import insert_log, get_max_timestamp\n",
    "from pyspark.sql import SparkSession, DataFrame\n",
    "from pyspark.sql.functions import current_timestamp, expr, to_date, date_format, udf, lit\n",
    "from pyspark.sql.types import StringType\n",
    "from datetime import datetime\n",
    "from delta import DeltaTable\n",
    "import uuid"
   ]
  },
  {
   "cell_type": "code",
   "execution_count": 3,
   "id": "3f5b09e7-e513-408b-8a79-90dd5160907d",
   "metadata": {},
   "outputs": [
    {
     "name": "stdout",
     "output_type": "stream",
     "text": [
      "SPARK_APP: JOB triggered for rundate - 20220101\n"
     ]
    }
   ],
   "source": [
    "# JOB Parameters\n",
    "rundate = get_rundate()\n",
    "schema_name = \"edw\"\n",
    "table_name = \"dim_product\"\n",
    "table_full_name = f\"{schema_name}.{table_name}\"\n",
    "staging_table_full_name = \"edw_stg.dim_product_stg\"\n",
    "print(\"SPARK_APP: JOB triggered for rundate - \" + rundate)"
   ]
  },
  {
   "cell_type": "code",
   "execution_count": 4,
   "id": "e083cb6d-d0e4-4f61-a275-a0e4ab4280e7",
   "metadata": {},
   "outputs": [
    {
     "name": "stdout",
     "output_type": "stream",
     "text": [
      "SPARK_APP: Spark UI - http://358d9e2d6aad:4040\n"
     ]
    }
   ],
   "source": [
    "# Generate Spark Session\n",
    "spark: SparkSession = get_spark_session(f\"Dimension load - {table_full_name}\")\n",
    "print(\"SPARK_APP: Spark UI - \" + spark.sparkContext.uiWebUrl)"
   ]
  },
  {
   "cell_type": "code",
   "execution_count": 5,
   "id": "bc65327c-8004-4e4b-a0be-30cf774314b3",
   "metadata": {},
   "outputs": [],
   "source": [
    "# Spark Configs\n",
    "spark.conf.set(\"spark.sql.shuffle.partitions\", 8)"
   ]
  },
  {
   "cell_type": "code",
   "execution_count": 6,
   "id": "38904dae-cc11-4c50-a4fe-77309b55dc6f",
   "metadata": {},
   "outputs": [
    {
     "name": "stdout",
     "output_type": "stream",
     "text": [
      "SPARK_APP: Staging Data Count - 14\n",
      "SPARK_APP: Printing Staging Schema --\n",
      "root\n",
      " |-- product_id: string (nullable = true)\n",
      " |-- product_name: string (nullable = true)\n",
      " |-- brand: string (nullable = true)\n",
      " |-- type: string (nullable = true)\n",
      " |-- flavor: string (nullable = true)\n",
      " |-- size: string (nullable = true)\n",
      " |-- price: double (nullable = true)\n",
      " |-- image_url: string (nullable = true)\n",
      " |-- insert_dt: timestamp (nullable = true)\n",
      " |-- rundate: string (nullable = true)\n",
      " |-- expiration_dt: date (nullable = true)\n",
      " |-- effective_start_dt: timestamp (nullable = true)\n",
      " |-- effective_end_dt: timestamp (nullable = true)\n",
      " |-- active_flg: integer (nullable = true)\n",
      " |-- update_dt: timestamp (nullable = true)\n",
      "\n"
     ]
    }
   ],
   "source": [
    "# Read data from Staging\n",
    "df_stg = spark \\\n",
    "    .read \\\n",
    "    .table(staging_table_full_name)\n",
    "\n",
    "print(\"SPARK_APP: Staging Data Count - \" + str(df_stg.count()))\n",
    "print(\"SPARK_APP: Printing Staging Schema --\")\n",
    "df_stg.printSchema()"
   ]
  },
  {
   "cell_type": "code",
   "execution_count": 7,
   "id": "02587351-3084-451d-a92b-b298ae8cc485",
   "metadata": {},
   "outputs": [],
   "source": [
    "# Generated uuid UDF for Surrogate Key\n",
    "uuidUDF = udf(lambda : str(uuid.uuid4()),StringType())"
   ]
  },
  {
   "cell_type": "code",
   "execution_count": 8,
   "id": "2a1c25e9-fcae-48c8-929f-8a6048b6e1ce",
   "metadata": {},
   "outputs": [
    {
     "name": "stdout",
     "output_type": "stream",
     "text": [
      "SPARK_APP: Dim Temp Data Count - 14\n",
      "SPARK_APP: Printing Dim Temp Schema --\n",
      "root\n",
      " |-- product_id: string (nullable = true)\n",
      " |-- product_name: string (nullable = true)\n",
      " |-- brand: string (nullable = true)\n",
      " |-- type: string (nullable = true)\n",
      " |-- flavor: string (nullable = true)\n",
      " |-- size: string (nullable = true)\n",
      " |-- price: double (nullable = true)\n",
      " |-- image_url: string (nullable = true)\n",
      " |-- insert_dt: timestamp (nullable = true)\n",
      " |-- rundate: string (nullable = true)\n",
      " |-- expiration_dt: date (nullable = true)\n",
      " |-- effective_start_dt: timestamp (nullable = true)\n",
      " |-- effective_end_dt: timestamp (nullable = true)\n",
      " |-- active_flg: integer (nullable = true)\n",
      " |-- update_dt: timestamp (nullable = true)\n",
      " |-- row_wid: string (nullable = true)\n",
      " |-- hist_record_end_timestamp: timestamp (nullable = true)\n",
      " |-- hist_record_active_flg: integer (nullable = false)\n",
      " |-- hist_record_update_dt: timestamp (nullable = false)\n",
      "\n"
     ]
    }
   ],
   "source": [
    "# Generate SURROGATE KEYs\n",
    "df_dim_temp = df_stg \\\n",
    "    .withColumn(\"row_wid\", uuidUDF()) \\\n",
    "    .withColumn(\"hist_record_end_timestamp\", expr(\"cast(effective_start_dt as TIMESTAMP) - INTERVAL 1 seconds\")) \\\n",
    "    .withColumn(\"hist_record_active_flg\", lit(0)) \\\n",
    "    .withColumn(\"hist_record_update_dt\", current_timestamp()) \n",
    "\n",
    "print(\"SPARK_APP: Dim Temp Data Count - \" + str(df_dim_temp.count()))\n",
    "print(\"SPARK_APP: Printing Dim Temp Schema --\")\n",
    "df_dim_temp.printSchema()"
   ]
  },
  {
   "cell_type": "code",
   "execution_count": 9,
   "id": "253cc237-fcb9-492e-a985-ec1cfa7426d6",
   "metadata": {},
   "outputs": [
    {
     "name": "stdout",
     "output_type": "stream",
     "text": [
      "SPARK_APP: Table is set for full load\n",
      "SPARK_APP: Updated History Records\n"
     ]
    }
   ],
   "source": [
    "# Get the delta table for Upserts (SCD2)\n",
    "dt_dim = DeltaTable.forName(spark, table_full_name)\n",
    "\n",
    "# Validate if the load is full load\n",
    "if get_max_timestamp(spark, schema_name, table_name) == \"1900-01-01 00:00:00.000000\":\n",
    "    print(\"SPARK_APP: Table is set for full load\") \n",
    "    # Truncate the Dimension table\n",
    "    spark.conf.set(\"spark.databricks.delta.retentionDurationCheck.enabled\", False)\n",
    "    dt_dim.delete(f\"1=1\")\n",
    "    dt_dim.vacuum(0)\n",
    "\n",
    "# Create the UPSERT logic\n",
    "dt_dim.alias(\"dim_product\") \\\n",
    "    .merge(df_dim_temp.alias(\"dim_temp\"), \"dim_product.product_id = dim_temp.product_id and dim_product.active_flg = 1\") \\\n",
    "    .whenMatchedUpdate(set =\n",
    "        {\n",
    "           \"effective_end_dt\" : \"dim_temp.hist_record_end_timestamp\",\n",
    "            \"active_flg\" : \"dim_temp.hist_record_active_flg\",\n",
    "            \"update_dt\" : \"dim_temp.hist_record_update_dt\"\n",
    "        }  \n",
    "    ) \\\n",
    "    .execute()\n",
    "print(\"SPARK_APP: Updated History Records\")"
   ]
  },
  {
   "cell_type": "code",
   "execution_count": 10,
   "id": "27061fb0-8d63-4db5-9f8a-1cf3afbe0e6e",
   "metadata": {},
   "outputs": [
    {
     "name": "stdout",
     "output_type": "stream",
     "text": [
      "+-------+---------------+---------------------+--------------------+-------------+\n",
      "|version|executionTimeMs|numTargetRowsInserted|numTargetRowsUpdated|numOutputRows|\n",
      "+-------+---------------+---------------------+--------------------+-------------+\n",
      "|1      |12390          |0                    |0                   |0            |\n",
      "+-------+---------------+---------------------+--------------------+-------------+\n",
      "\n"
     ]
    }
   ],
   "source": [
    "# Get the logs from delta table version\n",
    "dt_dim.history().limit(1).select(\"version\",\"operationMetrics.executionTimeMs\", \n",
    "                                 \"operationMetrics.numTargetRowsInserted\",\n",
    "                                \"operationMetrics.numTargetRowsUpdated\",\n",
    "                                \"operationMetrics.numOutputRows\").show(1, False)"
   ]
  },
  {
   "cell_type": "code",
   "execution_count": 11,
   "id": "80fa0115-f532-4aa1-a541-f55620cb7f03",
   "metadata": {},
   "outputs": [
    {
     "name": "stdout",
     "output_type": "stream",
     "text": [
      "SPARK_APP: Active Records inserted into Dimesion Table\n"
     ]
    }
   ],
   "source": [
    "# Insert all records in Delta Table in APPEND mode\n",
    "df_dim_temp.drop(\"hist_record_end_timestamp\", \"hist_record_active_flg\", \"hist_record_update_dt\") \\\n",
    "    .write \\\n",
    "    .format(\"delta\") \\\n",
    "    .mode(\"append\") \\\n",
    "    .saveAsTable(table_full_name)\n",
    "print(\"SPARK_APP: Active Records inserted into Dimesion Table\")"
   ]
  },
  {
   "cell_type": "code",
   "execution_count": 12,
   "id": "70df4604-c2ac-4c17-9761-6d8838f009f3",
   "metadata": {},
   "outputs": [
    {
     "name": "stdout",
     "output_type": "stream",
     "text": [
      "+-------+---------------+---------------------+--------------------+-------------+\n",
      "|version|executionTimeMs|numTargetRowsInserted|numTargetRowsUpdated|numOutputRows|\n",
      "+-------+---------------+---------------------+--------------------+-------------+\n",
      "|2      |null           |null                 |null                |14           |\n",
      "+-------+---------------+---------------------+--------------------+-------------+\n",
      "\n"
     ]
    }
   ],
   "source": [
    "# Get the logs from delta table version\n",
    "dt_dim.history().limit(1).select(\"version\",\"operationMetrics.executionTimeMs\", \n",
    "                                 \"operationMetrics.numTargetRowsInserted\",\n",
    "                                \"operationMetrics.numTargetRowsUpdated\",\n",
    "                                \"operationMetrics.numOutputRows\").show(1, False)"
   ]
  },
  {
   "cell_type": "code",
   "execution_count": 13,
   "id": "6c019d2f-ba8d-4d8c-9f34-05d66c5c6909",
   "metadata": {},
   "outputs": [
    {
     "name": "stdout",
     "output_type": "stream",
     "text": [
      "SPARK_APP: Update JOB Control Log\n"
     ]
    }
   ],
   "source": [
    "# Add job details in JOB CONTROL\n",
    "insert_log(spark, schema_name, table_name, datetime.now(), rundate)\n",
    "print(\"SPARK_APP: Update JOB Control Log\")"
   ]
  },
  {
   "cell_type": "code",
   "execution_count": 14,
   "id": "235b4d41-0c33-4e5a-972a-9495a1c87315",
   "metadata": {},
   "outputs": [
    {
     "name": "stdout",
     "output_type": "stream",
     "text": [
      "+-----------+-----------+--------------------------+--------+--------------------------+\n",
      "|schema_name|table_name |max_timestamp             |rundate |insert_dt                 |\n",
      "+-----------+-----------+--------------------------+--------+--------------------------+\n",
      "|edw        |dim_product|2024-04-20 16:10:51.122294|20220101|2024-04-20 16:10:52.032364|\n",
      "+-----------+-----------+--------------------------+--------+--------------------------+\n",
      "\n"
     ]
    }
   ],
   "source": [
    "spark.sql(f\"select * from edw.job_control where table_name = '{table_name}' order by insert_dt desc limit 1\").show(truncate=False)"
   ]
  },
  {
   "cell_type": "code",
   "execution_count": 15,
   "id": "922492f8-6bab-4829-8226-550aa9d92be9",
   "metadata": {},
   "outputs": [
    {
     "name": "stdout",
     "output_type": "stream",
     "text": [
      "SPARK_APP: Symlink Manifest file generated\n"
     ]
    }
   ],
   "source": [
    "# Generate Symlink manifest for Athena Access\n",
    "dt = DeltaTable.forName(spark, table_full_name)\n",
    "dt.generate(\"symlink_format_manifest\")\n",
    "print(\"SPARK_APP: Symlink Manifest file generated\")"
   ]
  },
  {
   "cell_type": "code",
   "execution_count": 16,
   "id": "a434688b-f4fe-4550-a757-5f1fbcbd8fa0",
   "metadata": {},
   "outputs": [],
   "source": [
    "spark.stop()"
   ]
  },
  {
   "cell_type": "code",
   "execution_count": null,
   "id": "d14b62c2-579c-434c-ab69-35fbd696f144",
   "metadata": {},
   "outputs": [],
   "source": []
  }
 ],
 "metadata": {
  "kernelspec": {
   "display_name": "Python 3 (ipykernel)",
   "language": "python",
   "name": "python3"
  },
  "language_info": {
   "codemirror_mode": {
    "name": "ipython",
    "version": 3
   },
   "file_extension": ".py",
   "mimetype": "text/x-python",
   "name": "python",
   "nbconvert_exporter": "python",
   "pygments_lexer": "ipython3",
   "version": "3.10.14"
  }
 },
 "nbformat": 4,
 "nbformat_minor": 5
}
